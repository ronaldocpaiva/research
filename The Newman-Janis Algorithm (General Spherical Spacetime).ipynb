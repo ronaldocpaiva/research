{
 "cells": [
  {
   "cell_type": "code",
   "execution_count": 1,
   "metadata": {},
   "outputs": [],
   "source": [
    "%display latex"
   ]
  },
  {
   "cell_type": "code",
   "execution_count": 2,
   "metadata": {},
   "outputs": [],
   "source": [
    "reset()"
   ]
  },
  {
   "cell_type": "markdown",
   "metadata": {},
   "source": [
    "## The Newman-Janis Algorithm\n",
    "<p style='text-align: justify;'>The Newman-Janis Algorithm is a technique able to produce axisymmetric metrics from spherical ones, not necessarily on-shell.  The algorithm uses a coordinates complexification and a complex coordinate transformation to obtain a new axisymmetric metric from a seed metric.</p>\n",
    "\n",
    "\n",
    "<p style='text-align: justify;'>After one can simplify the metric obtained by the Janis-Newman algorithm, often writing in Boyer-Lindquist coordinates, and verify if it satisfies equations of motion. Originally, using the Newman-Penrose tetrad formalism, the algorithm was the way to derivate the Kerr-Newman solution. The Janis-Newman algorithm has been successful to produce metrics.</p>\n",
    "\n",
    "Starting from a spherically symmetric metric, our seed metric:\n",
    "\n",
    "\\begin{equation}\n",
    "ds^2 = - A(r)dt^2 + B(r)^{-1}dr^2 + C(r)(d\\theta^2 + \\sin^2(\\theta)d\\phi^2).\n",
    "\\end{equation}\n",
    "\n",
    "One can follow steps below:\n",
    "\n",
    "* writing the seed metric in null coordinates, i.e., $\\{t, r, \\theta, \\phi\\} \\mapsto \\{u, r, \\theta, \\phi\\}$;\n",
    "* finding a Newman-Penrose frame $P^\\mu_a = \\{l^\\mu, n^\\mu, m^\\mu, \\bar{m}^\\mu \\} $ for inverse metric in null coordinates;\n",
    "* performing the complex transformation:\n",
    "\\begin{equation}\n",
    "r \\mapsto  r+ia\\cos(\\theta), \\;\\;\\;\\;\\; u \\mapsto u-ia\\cos(\\theta)\n",
    "\\end{equation}\n",
    "and a complexification of functions $A(r)$, $B(r)$ and $C(r)$;\n",
    "* performing a change of coordinates;\n",
    "* checking the equations of motion."
   ]
  },
  {
   "cell_type": "markdown",
   "metadata": {},
   "source": [
    "## Declaring the spacetime"
   ]
  },
  {
   "cell_type": "markdown",
   "metadata": {},
   "source": [
    "Let's start by declaring the spacetime that its metric will be our seed. \n",
    "\n",
    "Our spacetime is a 4-dimensional Lorentzian manifold."
   ]
  },
  {
   "cell_type": "code",
   "execution_count": 3,
   "metadata": {},
   "outputs": [],
   "source": [
    "M = Manifold(4,'M',structure='Lorentzian')\n",
    "X.<t, r, th, ph> = M.chart(r\"t r:(0,+oo) th:(0,pi):\\theta ph:(0,2*pi):\\phi:periodic\")\n",
    "U.<u, r, th, ph> = M.chart(r\"u r:(0,+oo) th:(0,pi):\\theta ph:(0,2*pi):\\phi:periodic\")\n",
    "K.<p, q, th, ph> = M.chart(r\"p:u' q:(0,+oo):r' th:(0,pi):\\theta ph:(0,2*pi):\\phi:periodic\")"
   ]
  },
  {
   "cell_type": "code",
   "execution_count": 4,
   "metadata": {},
   "outputs": [
    {
     "data": {
      "text/html": [
       "<html><script type=\"math/tex; mode=display\">\\newcommand{\\Bold}[1]{\\mathbf{#1}}t :\\ \\left( -\\infty, +\\infty \\right) ;\\quad r :\\ \\left( 0 , +\\infty \\right) ;\\quad {\\theta} :\\ \\left( 0 , \\pi \\right) ;\\quad {\\phi} :\\ \\left[ 0 , 2 \\, \\pi \\right] \\mbox{(periodic)}</script></html>"
      ],
      "text/latex": [
       "$$\\newcommand{\\Bold}[1]{\\mathbf{#1}}t :\\ \\left( -\\infty, +\\infty \\right) ;\\quad r :\\ \\left( 0 , +\\infty \\right) ;\\quad {\\theta} :\\ \\left( 0 , \\pi \\right) ;\\quad {\\phi} :\\ \\left[ 0 , 2 \\, \\pi \\right] \\mbox{(periodic)}$$"
      ],
      "text/plain": [
       "t: (-oo, +oo); r: (0, +oo); th: (0, pi); ph: [0, 2*pi] (periodic)"
      ]
     },
     "metadata": {},
     "output_type": "display_data"
    },
    {
     "data": {
      "text/html": [
       "<html><script type=\"math/tex; mode=display\">\\newcommand{\\Bold}[1]{\\mathbf{#1}}u :\\ \\left( -\\infty, +\\infty \\right) ;\\quad r :\\ \\left( 0 , +\\infty \\right) ;\\quad {\\theta} :\\ \\left( 0 , \\pi \\right) ;\\quad {\\phi} :\\ \\left[ 0 , 2 \\, \\pi \\right] \\mbox{(periodic)}</script></html>"
      ],
      "text/latex": [
       "$$\\newcommand{\\Bold}[1]{\\mathbf{#1}}u :\\ \\left( -\\infty, +\\infty \\right) ;\\quad r :\\ \\left( 0 , +\\infty \\right) ;\\quad {\\theta} :\\ \\left( 0 , \\pi \\right) ;\\quad {\\phi} :\\ \\left[ 0 , 2 \\, \\pi \\right] \\mbox{(periodic)}$$"
      ],
      "text/plain": [
       "u: (-oo, +oo); r: (0, +oo); th: (0, pi); ph: [0, 2*pi] (periodic)"
      ]
     },
     "metadata": {},
     "output_type": "display_data"
    },
    {
     "data": {
      "text/html": [
       "<html><script type=\"math/tex; mode=display\">\\newcommand{\\Bold}[1]{\\mathbf{#1}}{u'} :\\ \\left( -\\infty, +\\infty \\right) ;\\quad {r'} :\\ \\left( 0 , +\\infty \\right) ;\\quad {\\theta} :\\ \\left( 0 , \\pi \\right) ;\\quad {\\phi} :\\ \\left[ 0 , 2 \\, \\pi \\right] \\mbox{(periodic)}</script></html>"
      ],
      "text/latex": [
       "$$\\newcommand{\\Bold}[1]{\\mathbf{#1}}{u'} :\\ \\left( -\\infty, +\\infty \\right) ;\\quad {r'} :\\ \\left( 0 , +\\infty \\right) ;\\quad {\\theta} :\\ \\left( 0 , \\pi \\right) ;\\quad {\\phi} :\\ \\left[ 0 , 2 \\, \\pi \\right] \\mbox{(periodic)}$$"
      ],
      "text/plain": [
       "p: (-oo, +oo); q: (0, +oo); th: (0, pi); ph: [0, 2*pi] (periodic)"
      ]
     },
     "metadata": {},
     "output_type": "display_data"
    }
   ],
   "source": [
    "display(X.coord_range(),U.coord_range(), K.coord_range())"
   ]
  },
  {
   "cell_type": "markdown",
   "metadata": {},
   "source": [
    "<p style='text-align: justify;'>The seed metric is a solution of Einstein field equations that describes the gravitational field outside a spherical mass. The line element $ds^2$ in Schwarzschild coordinates has the form</p>\n",
    "\n",
    "\n",
    "\\begin{equation}\n",
    "ds^2 = - A(r)dt^2 + B(r)^{-1}dr^2 + C(r)(d\\theta^2 + \\sin^2(\\theta)d\\phi^2).\n",
    "\\end{equation}"
   ]
  },
  {
   "cell_type": "code",
   "execution_count": 5,
   "metadata": {},
   "outputs": [],
   "source": [
    "#funções da métrica\n",
    "#c = G = 1\n",
    "\n",
    "A = function('A')(r)\n",
    "B = function('B')(r)\n",
    "C = function('C')(r)"
   ]
  },
  {
   "cell_type": "code",
   "execution_count": 6,
   "metadata": {},
   "outputs": [],
   "source": [
    "#Inserimos aqui as entradas do tensor métrico - métrica \"semente\":\n",
    "g = M.metric()\n",
    "g[0,0] = -A\n",
    "g[1,1] = 1/B\n",
    "g[2,2] = C\n",
    "g[3,3] = sin(th)**2*C"
   ]
  },
  {
   "cell_type": "code",
   "execution_count": 7,
   "metadata": {},
   "outputs": [
    {
     "data": {
      "text/html": [
       "<html><script type=\"math/tex; mode=display\">\\newcommand{\\Bold}[1]{\\mathbf{#1}}g = -A\\left(r\\right) \\mathrm{d} t\\otimes \\mathrm{d} t + \\frac{1}{B\\left(r\\right)} \\mathrm{d} r\\otimes \\mathrm{d} r + C\\left(r\\right) \\mathrm{d} {\\theta}\\otimes \\mathrm{d} {\\theta} + C\\left(r\\right) \\sin\\left({\\theta}\\right)^{2} \\mathrm{d} {\\phi}\\otimes \\mathrm{d} {\\phi}</script></html>"
      ],
      "text/latex": [
       "$$\\newcommand{\\Bold}[1]{\\mathbf{#1}}g = -A\\left(r\\right) \\mathrm{d} t\\otimes \\mathrm{d} t + \\frac{1}{B\\left(r\\right)} \\mathrm{d} r\\otimes \\mathrm{d} r + C\\left(r\\right) \\mathrm{d} {\\theta}\\otimes \\mathrm{d} {\\theta} + C\\left(r\\right) \\sin\\left({\\theta}\\right)^{2} \\mathrm{d} {\\phi}\\otimes \\mathrm{d} {\\phi}$$"
      ],
      "text/plain": [
       "g = -A(r) dt*dt + 1/B(r) dr*dr + C(r) dth*dth + C(r)*sin(th)^2 dph*dph"
      ]
     },
     "execution_count": 7,
     "metadata": {},
     "output_type": "execute_result"
    }
   ],
   "source": [
    "g.display()"
   ]
  },
  {
   "cell_type": "markdown",
   "metadata": {},
   "source": [
    "# Writing the seed metric in null coordinates"
   ]
  },
  {
   "cell_type": "markdown",
   "metadata": {},
   "source": [
    "**1st step**: *writing the seed metric in outgoing Eddington-Finkelstein coordinates*. \n",
    "\n",
    "We perform the transformation:\n",
    "\n",
    "\\begin{equation}\n",
    " u= t -r^*.\n",
    "\\end{equation}\n",
    "\n",
    "Introducing the tortoise coordinate $r^*$:\n",
    "\n",
    "\\begin{equation}\n",
    "r^* = \\int \\frac{1}{\\sqrt{A(r)B(r)}} dr.\n",
    "\\end{equation}"
   ]
  },
  {
   "cell_type": "code",
   "execution_count": 8,
   "metadata": {},
   "outputs": [
    {
     "data": {
      "text/html": [
       "<html><script type=\"math/tex; mode=display\">\\newcommand{\\Bold}[1]{\\mathbf{#1}}\\int \\frac{1}{\\sqrt{A\\left(r\\right) B\\left(r\\right)}}\\,{d r}</script></html>"
      ],
      "text/latex": [
       "$$\\newcommand{\\Bold}[1]{\\mathbf{#1}}\\int \\frac{1}{\\sqrt{A\\left(r\\right) B\\left(r\\right)}}\\,{d r}$$"
      ],
      "text/plain": [
       "integrate(1/sqrt(A(r)*B(r)), r)"
      ]
     },
     "execution_count": 8,
     "metadata": {},
     "output_type": "execute_result"
    }
   ],
   "source": [
    "## Calculamos r* para a métrica semente, aqui r* = rt.\n",
    "rt = integrate(1/sqrt(A*B),r); rt"
   ]
  },
  {
   "cell_type": "markdown",
   "metadata": {},
   "source": [
    "We need to introduce a relation between our charts $X$ and $U$:\n",
    "\n",
    "\\begin{equation}\n",
    "\\left\\{\\begin{array}{ll} t = u + r^*\\\\ r = r\\\\ \\theta = \\theta \\\\ \\phi = \\phi \\end{array}\\right..\n",
    "\\end{equation}\n",
    "\n",
    "Finally, we can write our line element in outgoing Eddington-Finkelstein coordinates.\n",
    "\n",
    "In outgoing Eddington-Finkelstein coordinates, the seed metric can be written as:\n",
    "\n",
    "\\begin{equation}\n",
    "ds^2 = - A(r)du^2 - 2\\sqrt{\\frac{A(r)}{B(r)}} dr^2 + C(r) (d\\theta^2 + \\sin^2(\\theta)d\\phi^2).\n",
    "\\end{equation}"
   ]
  },
  {
   "cell_type": "code",
   "execution_count": 9,
   "metadata": {},
   "outputs": [],
   "source": [
    "#mudança de coordenadas de coordenadas de Schwarzschild (t,r,theta,phi) \n",
    "#para outgoing Eddington-Finkelstein (u,r,theta, phi)\n",
    "\n",
    "X_to_U = U.transition_map(X, [u + rt, r, th, ph])"
   ]
  },
  {
   "cell_type": "code",
   "execution_count": 10,
   "metadata": {
    "scrolled": true
   },
   "outputs": [
    {
     "data": {
      "text/html": [
       "<html><script type=\"math/tex; mode=display\">\\newcommand{\\Bold}[1]{\\mathbf{#1}}\\left\\{\\begin{array}{lcl} t & = & u + \\int \\frac{1}{\\sqrt{A\\left(r\\right) B\\left(r\\right)}}\\,{d r} \\\\ r & = & r \\\\ {\\theta} & = & {\\theta} \\\\ {\\phi} & = & {\\phi} \\end{array}\\right.</script></html>"
      ],
      "text/latex": [
       "$$\\newcommand{\\Bold}[1]{\\mathbf{#1}}\\left\\{\\begin{array}{lcl} t & = & u + \\int \\frac{1}{\\sqrt{A\\left(r\\right) B\\left(r\\right)}}\\,{d r} \\\\ r & = & r \\\\ {\\theta} & = & {\\theta} \\\\ {\\phi} & = & {\\phi} \\end{array}\\right.$$"
      ],
      "text/plain": [
       "t = u + integrate(1/sqrt(A(r)*B(r)), r)\n",
       "r = r\n",
       "th = th\n",
       "ph = ph"
      ]
     },
     "execution_count": 10,
     "metadata": {},
     "output_type": "execute_result"
    }
   ],
   "source": [
    "X_to_U.display()"
   ]
  },
  {
   "cell_type": "code",
   "execution_count": 11,
   "metadata": {
    "scrolled": false
   },
   "outputs": [
    {
     "data": {
      "text/html": [
       "<html><script type=\"math/tex; mode=display\">\\newcommand{\\Bold}[1]{\\mathbf{#1}}\\left\\{\\begin{array}{lcl} u & = & t - \\int \\frac{1}{\\sqrt{A\\left(r\\right)} \\sqrt{B\\left(r\\right)}}\\,{d r} \\\\ r & = & r \\\\ {\\theta} & = & {\\theta} \\\\ {\\phi} & = & {\\phi} \\end{array}\\right.</script></html>"
      ],
      "text/latex": [
       "$$\\newcommand{\\Bold}[1]{\\mathbf{#1}}\\left\\{\\begin{array}{lcl} u & = & t - \\int \\frac{1}{\\sqrt{A\\left(r\\right)} \\sqrt{B\\left(r\\right)}}\\,{d r} \\\\ r & = & r \\\\ {\\theta} & = & {\\theta} \\\\ {\\phi} & = & {\\phi} \\end{array}\\right.$$"
      ],
      "text/plain": [
       "u = t - integrate(1/(sqrt(A(r))*sqrt(B(r))), r)\n",
       "r = r\n",
       "th = th\n",
       "ph = ph"
      ]
     },
     "execution_count": 11,
     "metadata": {},
     "output_type": "execute_result"
    }
   ],
   "source": [
    "X_to_U.inverse().display()"
   ]
  },
  {
   "cell_type": "markdown",
   "metadata": {},
   "source": [
    "Using $g.display(U)$ we can verify if our seed metric has the form of outgoing Eddington-Finkelstein coordinates."
   ]
  },
  {
   "cell_type": "code",
   "execution_count": 12,
   "metadata": {},
   "outputs": [
    {
     "data": {
      "text/html": [
       "<html><script type=\"math/tex; mode=display\">\\newcommand{\\Bold}[1]{\\mathbf{#1}}g = -A\\left(r\\right) \\mathrm{d} u\\otimes \\mathrm{d} u -\\frac{\\sqrt{A\\left(r\\right)}}{\\sqrt{B\\left(r\\right)}} \\mathrm{d} u\\otimes \\mathrm{d} r -\\frac{\\sqrt{A\\left(r\\right)}}{\\sqrt{B\\left(r\\right)}} \\mathrm{d} r\\otimes \\mathrm{d} u + C\\left(r\\right) \\mathrm{d} {\\theta}\\otimes \\mathrm{d} {\\theta} + C\\left(r\\right) \\sin\\left({\\theta}\\right)^{2} \\mathrm{d} {\\phi}\\otimes \\mathrm{d} {\\phi}</script></html>"
      ],
      "text/latex": [
       "$$\\newcommand{\\Bold}[1]{\\mathbf{#1}}g = -A\\left(r\\right) \\mathrm{d} u\\otimes \\mathrm{d} u -\\frac{\\sqrt{A\\left(r\\right)}}{\\sqrt{B\\left(r\\right)}} \\mathrm{d} u\\otimes \\mathrm{d} r -\\frac{\\sqrt{A\\left(r\\right)}}{\\sqrt{B\\left(r\\right)}} \\mathrm{d} r\\otimes \\mathrm{d} u + C\\left(r\\right) \\mathrm{d} {\\theta}\\otimes \\mathrm{d} {\\theta} + C\\left(r\\right) \\sin\\left({\\theta}\\right)^{2} \\mathrm{d} {\\phi}\\otimes \\mathrm{d} {\\phi}$$"
      ],
      "text/plain": [
       "g = -A(r) du*du - sqrt(A(r))/sqrt(B(r)) du*dr - sqrt(A(r))/sqrt(B(r)) dr*du + C(r) dth*dth + C(r)*sin(th)^2 dph*dph"
      ]
     },
     "execution_count": 12,
     "metadata": {},
     "output_type": "execute_result"
    }
   ],
   "source": [
    "#elemento de linha no sistema de coordenadas (u, r, theta, phi)\n",
    "g.display(U)"
   ]
  },
  {
   "cell_type": "code",
   "execution_count": 13,
   "metadata": {},
   "outputs": [
    {
     "data": {
      "text/html": [
       "<html><script type=\"math/tex; mode=display\">\\newcommand{\\Bold}[1]{\\mathbf{#1}}g = -A\\left(r\\right) \\mathrm{d} t\\otimes \\mathrm{d} t + \\frac{1}{B\\left(r\\right)} \\mathrm{d} r\\otimes \\mathrm{d} r + C\\left(r\\right) \\mathrm{d} {\\theta}\\otimes \\mathrm{d} {\\theta} + C\\left(r\\right) \\sin\\left({\\theta}\\right)^{2} \\mathrm{d} {\\phi}\\otimes \\mathrm{d} {\\phi}</script></html>"
      ],
      "text/latex": [
       "$$\\newcommand{\\Bold}[1]{\\mathbf{#1}}g = -A\\left(r\\right) \\mathrm{d} t\\otimes \\mathrm{d} t + \\frac{1}{B\\left(r\\right)} \\mathrm{d} r\\otimes \\mathrm{d} r + C\\left(r\\right) \\mathrm{d} {\\theta}\\otimes \\mathrm{d} {\\theta} + C\\left(r\\right) \\sin\\left({\\theta}\\right)^{2} \\mathrm{d} {\\phi}\\otimes \\mathrm{d} {\\phi}$$"
      ],
      "text/plain": [
       "g = -A(r) dt*dt + 1/B(r) dr*dr + C(r) dth*dth + C(r)*sin(th)^2 dph*dph"
      ]
     },
     "execution_count": 13,
     "metadata": {},
     "output_type": "execute_result"
    }
   ],
   "source": [
    "#elemento de linha no sistema de coordenadas (t, r, theta, phi)\n",
    "g.display(X)"
   ]
  },
  {
   "cell_type": "code",
   "execution_count": 14,
   "metadata": {},
   "outputs": [
    {
     "data": {
      "text/html": [
       "<html><script type=\"math/tex; mode=display\">\\newcommand{\\Bold}[1]{\\mathbf{#1}}\\left(\\begin{array}{rrrr}\n",
       "-A\\left(r\\right) & 0 & 0 & 0 \\\\\n",
       "0 & \\frac{1}{B\\left(r\\right)} & 0 & 0 \\\\\n",
       "0 & 0 & C\\left(r\\right) & 0 \\\\\n",
       "0 & 0 & 0 & C\\left(r\\right) \\sin\\left({\\theta}\\right)^{2}\n",
       "\\end{array}\\right)</script></html>"
      ],
      "text/latex": [
       "$$\\newcommand{\\Bold}[1]{\\mathbf{#1}}\\left(\\begin{array}{rrrr}\n",
       "-A\\left(r\\right) & 0 & 0 & 0 \\\\\n",
       "0 & \\frac{1}{B\\left(r\\right)} & 0 & 0 \\\\\n",
       "0 & 0 & C\\left(r\\right) & 0 \\\\\n",
       "0 & 0 & 0 & C\\left(r\\right) \\sin\\left({\\theta}\\right)^{2}\n",
       "\\end{array}\\right)$$"
      ],
      "text/plain": [
       "[         -A(r)              0              0              0]\n",
       "[             0         1/B(r)              0              0]\n",
       "[             0              0           C(r)              0]\n",
       "[             0              0              0 C(r)*sin(th)^2]"
      ]
     },
     "execution_count": 14,
     "metadata": {},
     "output_type": "execute_result"
    }
   ],
   "source": [
    "#matriz tensor métrico sistema de coordenadas (t, r, theta, phi)\n",
    "g[:]"
   ]
  },
  {
   "cell_type": "code",
   "execution_count": 15,
   "metadata": {},
   "outputs": [
    {
     "data": {
      "text/html": [
       "<html><script type=\"math/tex; mode=display\">\\newcommand{\\Bold}[1]{\\mathbf{#1}}\\left(\\begin{array}{rrrr}\n",
       "-A\\left(r\\right) & -\\frac{\\sqrt{A\\left(r\\right)}}{\\sqrt{B\\left(r\\right)}} & 0 & 0 \\\\\n",
       "-\\frac{\\sqrt{A\\left(r\\right)}}{\\sqrt{B\\left(r\\right)}} & 0 & 0 & 0 \\\\\n",
       "0 & 0 & C\\left(r\\right) & 0 \\\\\n",
       "0 & 0 & 0 & C\\left(r\\right) \\sin\\left({\\theta}\\right)^{2}\n",
       "\\end{array}\\right)</script></html>"
      ],
      "text/latex": [
       "$$\\newcommand{\\Bold}[1]{\\mathbf{#1}}\\left(\\begin{array}{rrrr}\n",
       "-A\\left(r\\right) & -\\frac{\\sqrt{A\\left(r\\right)}}{\\sqrt{B\\left(r\\right)}} & 0 & 0 \\\\\n",
       "-\\frac{\\sqrt{A\\left(r\\right)}}{\\sqrt{B\\left(r\\right)}} & 0 & 0 & 0 \\\\\n",
       "0 & 0 & C\\left(r\\right) & 0 \\\\\n",
       "0 & 0 & 0 & C\\left(r\\right) \\sin\\left({\\theta}\\right)^{2}\n",
       "\\end{array}\\right)$$"
      ],
      "text/plain": [
       "[                 -A(r) -sqrt(A(r))/sqrt(B(r))                      0                      0]\n",
       "[-sqrt(A(r))/sqrt(B(r))                      0                      0                      0]\n",
       "[                     0                      0                   C(r)                      0]\n",
       "[                     0                      0                      0         C(r)*sin(th)^2]"
      ]
     },
     "execution_count": 15,
     "metadata": {},
     "output_type": "execute_result"
    }
   ],
   "source": [
    "#matriz tensor métrico sistema de coordenadas (u, r, theta, phi)\n",
    "g[U.frame(),:]"
   ]
  },
  {
   "cell_type": "markdown",
   "metadata": {},
   "source": [
    "## Finding a Newman-Penrose frame\n",
    "\n",
    "**2nd step**: finding a Newman-Penrose frame.\n",
    "\n",
    "For our seed metric in outgoing Eddington-Finkelstein coordinates, we can make the choice:\n",
    "\n",
    "\\begin{equation}\n",
    "P^\\mu_a = \\{l^\\mu, n^\\mu, m^\\mu, \\bar{m}^\\mu \\},\n",
    "\\end{equation}\n",
    "where:\n",
    "\\begin{equation}\n",
    "\\begin{split}\n",
    "&l^\\mu = \\delta^\\mu_r,\\\\\n",
    "&n^\\mu = \\sqrt{\\frac{B(r)}{A(r)}}\\delta^\\mu_u - \\frac{B(r)}{2}\\delta^\\mu_r,\\\\\n",
    "&m^\\mu = \\sqrt{\\frac{1}{2C(r)}}\\left(\\delta^\\mu_\\theta + \\frac{i}{\\sin(\\theta)}\\delta^\\mu_\\phi\\right)\\\\\n",
    "&\\bar{m}^\\mu = \\sqrt{\\frac{1}{2C(r)}}\\left(\\delta^\\mu_\\theta - \\frac{i}{\\sin(\\theta)}\\delta^\\mu_\\phi\\right).\n",
    "\\end{split}\n",
    "\\end{equation}\n",
    "\n",
    "Any set of vector $P$ that satisfies:\n",
    "\n",
    "\\begin{equation}\n",
    "\\begin{split}\n",
    "&g^{\\mu \\nu} = - l \\otimes n - n \\otimes l + m\\otimes \\bar{m} + \\bar{m} \\otimes m\\\\\n",
    "&\\langle l, l \\rangle = \\langle n, n \\rangle = \\langle m, m \\rangle = \\langle \\bar{m}, \\bar{m} \\rangle = 0,\\\\\n",
    "& \\langle l, m \\rangle = \\langle l, \\bar{m} \\rangle = \\langle n, m \\rangle = \\langle n, \\bar{m} \\rangle = 0,\\\\\n",
    "& \\langle l , n \\rangle = -1,\\\\\n",
    "& \\langle m, \\bar{m} \\rangle = 1.\n",
    "\\end{split}\n",
    "\\end{equation}\n",
    "is a Newman-Penrose frame.\n",
    "\n",
    "Inner product is commutative, so switching the terms above do not change the relation. By the way, we assume the metric signature $[-,+,+,+]$. For this reason,\n",
    "\n",
    "\\begin{equation}\n",
    "\\langle m, \\bar{m} \\rangle = -\\langle l , n \\rangle = 1.\n",
    "\\end{equation}\n",
    "\n",
    "If we assumed the signature $[+,-,-,-]$, \n",
    "\n",
    "\\begin{equation}\n",
    "\\langle l , n \\rangle = -\\langle m, \\bar{m} \\rangle = 1.\n",
    "\\end{equation}"
   ]
  },
  {
   "cell_type": "code",
   "execution_count": 16,
   "metadata": {},
   "outputs": [],
   "source": [
    "## Definimos o referencial de Newman-Penrose em relação às coordenadas de oEF.\n",
    "# Importante dizer que definimos nossa tetrada no referencial U, o sage é capaz de determinar utilizando as cartas\n",
    "#qual é a expressão para os vetores em X, U e K.\n",
    "l = M.vector_field(name='l')\n",
    "l[U.frame(), :, U] = [0, 1,0,0]\n",
    "\n",
    "n = M.vector_field(name='n')\n",
    "n[U.frame(), :, U] = [sqrt(B/A), -B/2,0,0]\n",
    "\n",
    "m = M.vector_field(name='m')\n",
    "m[U.frame(), :, U] = [0, 0, 1/sqrt(2*C),1/sqrt(2*C)*(I/sin(th))]\n",
    "\n",
    "mb = M.vector_field(name='mb', latex_name=r'\\bar{m}')\n",
    "mb[U.frame(), :, U] = [0, 0, 1/sqrt(2*C),-1/sqrt(2*C)*(I/sin(th))]\n",
    "\n",
    "e = [l,n,m,mb]"
   ]
  },
  {
   "cell_type": "markdown",
   "metadata": {},
   "source": [
    "We should verify if our tetrad is a Newman-Penrose frame. We know that our choice satisfies the conditions. But if one made another choice, we should be able to verify it."
   ]
  },
  {
   "cell_type": "code",
   "execution_count": 17,
   "metadata": {},
   "outputs": [
    {
     "data": {
      "text/html": [
       "<html><script type=\"math/tex; mode=display\">\\newcommand{\\Bold}[1]{\\mathbf{#1}}\\begin{array}{llcl} g\\left(l,l\\right):& M & \\longrightarrow & \\mathbb{R} \\\\ & \\left(t, r, {\\theta}, {\\phi}\\right) & \\longmapsto & 0 \\\\ & \\left(u, r, {\\theta}, {\\phi}\\right) & \\longmapsto & 0 \\\\ & \\left({u'}, {r'}, {\\theta}, {\\phi}\\right) & \\longmapsto & 0 \\end{array}</script></html>"
      ],
      "text/latex": [
       "$$\\newcommand{\\Bold}[1]{\\mathbf{#1}}\\begin{array}{llcl} g\\left(l,l\\right):& M & \\longrightarrow & \\mathbb{R} \\\\ & \\left(t, r, {\\theta}, {\\phi}\\right) & \\longmapsto & 0 \\\\ & \\left(u, r, {\\theta}, {\\phi}\\right) & \\longmapsto & 0 \\\\ & \\left({u'}, {r'}, {\\theta}, {\\phi}\\right) & \\longmapsto & 0 \\end{array}$$"
      ],
      "text/plain": [
       "g(l,l): M --> R\n",
       "   (t, r, th, ph) |--> 0\n",
       "   (u, r, th, ph) |--> 0\n",
       "   (p, q, th, ph) |--> 0"
      ]
     },
     "metadata": {},
     "output_type": "display_data"
    },
    {
     "data": {
      "text/html": [
       "<html><script type=\"math/tex; mode=display\">\\newcommand{\\Bold}[1]{\\mathbf{#1}}\\begin{array}{llcl} g\\left(l,n\\right):& M & \\longrightarrow & \\mathbb{R} \\\\ & \\left(t, r, {\\theta}, {\\phi}\\right) & \\longmapsto & -1 \\\\ & \\left(u, r, {\\theta}, {\\phi}\\right) & \\longmapsto & -1 \\end{array}</script></html>"
      ],
      "text/latex": [
       "$$\\newcommand{\\Bold}[1]{\\mathbf{#1}}\\begin{array}{llcl} g\\left(l,n\\right):& M & \\longrightarrow & \\mathbb{R} \\\\ & \\left(t, r, {\\theta}, {\\phi}\\right) & \\longmapsto & -1 \\\\ & \\left(u, r, {\\theta}, {\\phi}\\right) & \\longmapsto & -1 \\end{array}$$"
      ],
      "text/plain": [
       "g(l,n): M --> R\n",
       "   (t, r, th, ph) |--> -1\n",
       "   (u, r, th, ph) |--> -1"
      ]
     },
     "metadata": {},
     "output_type": "display_data"
    },
    {
     "data": {
      "text/html": [
       "<html><script type=\"math/tex; mode=display\">\\newcommand{\\Bold}[1]{\\mathbf{#1}}\\begin{array}{llcl} g\\left(l,m\\right):& M & \\longrightarrow & \\mathbb{R} \\\\ & \\left(t, r, {\\theta}, {\\phi}\\right) & \\longmapsto & 0 \\\\ & \\left(u, r, {\\theta}, {\\phi}\\right) & \\longmapsto & 0 \\\\ & \\left({u'}, {r'}, {\\theta}, {\\phi}\\right) & \\longmapsto & 0 \\end{array}</script></html>"
      ],
      "text/latex": [
       "$$\\newcommand{\\Bold}[1]{\\mathbf{#1}}\\begin{array}{llcl} g\\left(l,m\\right):& M & \\longrightarrow & \\mathbb{R} \\\\ & \\left(t, r, {\\theta}, {\\phi}\\right) & \\longmapsto & 0 \\\\ & \\left(u, r, {\\theta}, {\\phi}\\right) & \\longmapsto & 0 \\\\ & \\left({u'}, {r'}, {\\theta}, {\\phi}\\right) & \\longmapsto & 0 \\end{array}$$"
      ],
      "text/plain": [
       "g(l,m): M --> R\n",
       "   (t, r, th, ph) |--> 0\n",
       "   (u, r, th, ph) |--> 0\n",
       "   (p, q, th, ph) |--> 0"
      ]
     },
     "metadata": {},
     "output_type": "display_data"
    },
    {
     "data": {
      "text/html": [
       "<html><script type=\"math/tex; mode=display\">\\newcommand{\\Bold}[1]{\\mathbf{#1}}\\begin{array}{llcl} g\\left(l,\\bar{m}\\right):& M & \\longrightarrow & \\mathbb{R} \\\\ & \\left(t, r, {\\theta}, {\\phi}\\right) & \\longmapsto & 0 \\\\ & \\left(u, r, {\\theta}, {\\phi}\\right) & \\longmapsto & 0 \\\\ & \\left({u'}, {r'}, {\\theta}, {\\phi}\\right) & \\longmapsto & 0 \\end{array}</script></html>"
      ],
      "text/latex": [
       "$$\\newcommand{\\Bold}[1]{\\mathbf{#1}}\\begin{array}{llcl} g\\left(l,\\bar{m}\\right):& M & \\longrightarrow & \\mathbb{R} \\\\ & \\left(t, r, {\\theta}, {\\phi}\\right) & \\longmapsto & 0 \\\\ & \\left(u, r, {\\theta}, {\\phi}\\right) & \\longmapsto & 0 \\\\ & \\left({u'}, {r'}, {\\theta}, {\\phi}\\right) & \\longmapsto & 0 \\end{array}$$"
      ],
      "text/plain": [
       "g(l,mb): M --> R\n",
       "   (t, r, th, ph) |--> 0\n",
       "   (u, r, th, ph) |--> 0\n",
       "   (p, q, th, ph) |--> 0"
      ]
     },
     "metadata": {},
     "output_type": "display_data"
    },
    {
     "data": {
      "text/html": [
       "<html><script type=\"math/tex; mode=display\">\\newcommand{\\Bold}[1]{\\mathbf{#1}}\\begin{array}{llcl} g\\left(n,l\\right):& M & \\longrightarrow & \\mathbb{R} \\\\ & \\left(t, r, {\\theta}, {\\phi}\\right) & \\longmapsto & -1 \\\\ & \\left(u, r, {\\theta}, {\\phi}\\right) & \\longmapsto & -1 \\end{array}</script></html>"
      ],
      "text/latex": [
       "$$\\newcommand{\\Bold}[1]{\\mathbf{#1}}\\begin{array}{llcl} g\\left(n,l\\right):& M & \\longrightarrow & \\mathbb{R} \\\\ & \\left(t, r, {\\theta}, {\\phi}\\right) & \\longmapsto & -1 \\\\ & \\left(u, r, {\\theta}, {\\phi}\\right) & \\longmapsto & -1 \\end{array}$$"
      ],
      "text/plain": [
       "g(n,l): M --> R\n",
       "   (t, r, th, ph) |--> -1\n",
       "   (u, r, th, ph) |--> -1"
      ]
     },
     "metadata": {},
     "output_type": "display_data"
    },
    {
     "data": {
      "text/html": [
       "<html><script type=\"math/tex; mode=display\">\\newcommand{\\Bold}[1]{\\mathbf{#1}}\\begin{array}{llcl} g\\left(n,n\\right):& M & \\longrightarrow & \\mathbb{R} \\\\ & \\left(t, r, {\\theta}, {\\phi}\\right) & \\longmapsto & 0 \\\\ & \\left(u, r, {\\theta}, {\\phi}\\right) & \\longmapsto & 0 \\\\ & \\left({u'}, {r'}, {\\theta}, {\\phi}\\right) & \\longmapsto & 0 \\end{array}</script></html>"
      ],
      "text/latex": [
       "$$\\newcommand{\\Bold}[1]{\\mathbf{#1}}\\begin{array}{llcl} g\\left(n,n\\right):& M & \\longrightarrow & \\mathbb{R} \\\\ & \\left(t, r, {\\theta}, {\\phi}\\right) & \\longmapsto & 0 \\\\ & \\left(u, r, {\\theta}, {\\phi}\\right) & \\longmapsto & 0 \\\\ & \\left({u'}, {r'}, {\\theta}, {\\phi}\\right) & \\longmapsto & 0 \\end{array}$$"
      ],
      "text/plain": [
       "g(n,n): M --> R\n",
       "   (t, r, th, ph) |--> 0\n",
       "   (u, r, th, ph) |--> 0\n",
       "   (p, q, th, ph) |--> 0"
      ]
     },
     "metadata": {},
     "output_type": "display_data"
    },
    {
     "data": {
      "text/html": [
       "<html><script type=\"math/tex; mode=display\">\\newcommand{\\Bold}[1]{\\mathbf{#1}}\\begin{array}{llcl} g\\left(n,m\\right):& M & \\longrightarrow & \\mathbb{R} \\\\ & \\left(t, r, {\\theta}, {\\phi}\\right) & \\longmapsto & 0 \\\\ & \\left(u, r, {\\theta}, {\\phi}\\right) & \\longmapsto & 0 \\\\ & \\left({u'}, {r'}, {\\theta}, {\\phi}\\right) & \\longmapsto & 0 \\end{array}</script></html>"
      ],
      "text/latex": [
       "$$\\newcommand{\\Bold}[1]{\\mathbf{#1}}\\begin{array}{llcl} g\\left(n,m\\right):& M & \\longrightarrow & \\mathbb{R} \\\\ & \\left(t, r, {\\theta}, {\\phi}\\right) & \\longmapsto & 0 \\\\ & \\left(u, r, {\\theta}, {\\phi}\\right) & \\longmapsto & 0 \\\\ & \\left({u'}, {r'}, {\\theta}, {\\phi}\\right) & \\longmapsto & 0 \\end{array}$$"
      ],
      "text/plain": [
       "g(n,m): M --> R\n",
       "   (t, r, th, ph) |--> 0\n",
       "   (u, r, th, ph) |--> 0\n",
       "   (p, q, th, ph) |--> 0"
      ]
     },
     "metadata": {},
     "output_type": "display_data"
    },
    {
     "data": {
      "text/html": [
       "<html><script type=\"math/tex; mode=display\">\\newcommand{\\Bold}[1]{\\mathbf{#1}}\\begin{array}{llcl} g\\left(n,\\bar{m}\\right):& M & \\longrightarrow & \\mathbb{R} \\\\ & \\left(t, r, {\\theta}, {\\phi}\\right) & \\longmapsto & 0 \\\\ & \\left(u, r, {\\theta}, {\\phi}\\right) & \\longmapsto & 0 \\\\ & \\left({u'}, {r'}, {\\theta}, {\\phi}\\right) & \\longmapsto & 0 \\end{array}</script></html>"
      ],
      "text/latex": [
       "$$\\newcommand{\\Bold}[1]{\\mathbf{#1}}\\begin{array}{llcl} g\\left(n,\\bar{m}\\right):& M & \\longrightarrow & \\mathbb{R} \\\\ & \\left(t, r, {\\theta}, {\\phi}\\right) & \\longmapsto & 0 \\\\ & \\left(u, r, {\\theta}, {\\phi}\\right) & \\longmapsto & 0 \\\\ & \\left({u'}, {r'}, {\\theta}, {\\phi}\\right) & \\longmapsto & 0 \\end{array}$$"
      ],
      "text/plain": [
       "g(n,mb): M --> R\n",
       "   (t, r, th, ph) |--> 0\n",
       "   (u, r, th, ph) |--> 0\n",
       "   (p, q, th, ph) |--> 0"
      ]
     },
     "metadata": {},
     "output_type": "display_data"
    },
    {
     "data": {
      "text/html": [
       "<html><script type=\"math/tex; mode=display\">\\newcommand{\\Bold}[1]{\\mathbf{#1}}\\begin{array}{llcl} g\\left(m,l\\right):& M & \\longrightarrow & \\mathbb{R} \\\\ & \\left(t, r, {\\theta}, {\\phi}\\right) & \\longmapsto & 0 \\\\ & \\left(u, r, {\\theta}, {\\phi}\\right) & \\longmapsto & 0 \\\\ & \\left({u'}, {r'}, {\\theta}, {\\phi}\\right) & \\longmapsto & 0 \\end{array}</script></html>"
      ],
      "text/latex": [
       "$$\\newcommand{\\Bold}[1]{\\mathbf{#1}}\\begin{array}{llcl} g\\left(m,l\\right):& M & \\longrightarrow & \\mathbb{R} \\\\ & \\left(t, r, {\\theta}, {\\phi}\\right) & \\longmapsto & 0 \\\\ & \\left(u, r, {\\theta}, {\\phi}\\right) & \\longmapsto & 0 \\\\ & \\left({u'}, {r'}, {\\theta}, {\\phi}\\right) & \\longmapsto & 0 \\end{array}$$"
      ],
      "text/plain": [
       "g(m,l): M --> R\n",
       "   (t, r, th, ph) |--> 0\n",
       "   (u, r, th, ph) |--> 0\n",
       "   (p, q, th, ph) |--> 0"
      ]
     },
     "metadata": {},
     "output_type": "display_data"
    },
    {
     "data": {
      "text/html": [
       "<html><script type=\"math/tex; mode=display\">\\newcommand{\\Bold}[1]{\\mathbf{#1}}\\begin{array}{llcl} g\\left(m,n\\right):& M & \\longrightarrow & \\mathbb{R} \\\\ & \\left(t, r, {\\theta}, {\\phi}\\right) & \\longmapsto & 0 \\\\ & \\left(u, r, {\\theta}, {\\phi}\\right) & \\longmapsto & 0 \\\\ & \\left({u'}, {r'}, {\\theta}, {\\phi}\\right) & \\longmapsto & 0 \\end{array}</script></html>"
      ],
      "text/latex": [
       "$$\\newcommand{\\Bold}[1]{\\mathbf{#1}}\\begin{array}{llcl} g\\left(m,n\\right):& M & \\longrightarrow & \\mathbb{R} \\\\ & \\left(t, r, {\\theta}, {\\phi}\\right) & \\longmapsto & 0 \\\\ & \\left(u, r, {\\theta}, {\\phi}\\right) & \\longmapsto & 0 \\\\ & \\left({u'}, {r'}, {\\theta}, {\\phi}\\right) & \\longmapsto & 0 \\end{array}$$"
      ],
      "text/plain": [
       "g(m,n): M --> R\n",
       "   (t, r, th, ph) |--> 0\n",
       "   (u, r, th, ph) |--> 0\n",
       "   (p, q, th, ph) |--> 0"
      ]
     },
     "metadata": {},
     "output_type": "display_data"
    },
    {
     "data": {
      "text/html": [
       "<html><script type=\"math/tex; mode=display\">\\newcommand{\\Bold}[1]{\\mathbf{#1}}\\begin{array}{llcl} g\\left(m,m\\right):& M & \\longrightarrow & \\mathbb{R} \\\\ & \\left(t, r, {\\theta}, {\\phi}\\right) & \\longmapsto & 0 \\\\ & \\left(u, r, {\\theta}, {\\phi}\\right) & \\longmapsto & 0 \\end{array}</script></html>"
      ],
      "text/latex": [
       "$$\\newcommand{\\Bold}[1]{\\mathbf{#1}}\\begin{array}{llcl} g\\left(m,m\\right):& M & \\longrightarrow & \\mathbb{R} \\\\ & \\left(t, r, {\\theta}, {\\phi}\\right) & \\longmapsto & 0 \\\\ & \\left(u, r, {\\theta}, {\\phi}\\right) & \\longmapsto & 0 \\end{array}$$"
      ],
      "text/plain": [
       "g(m,m): M --> R\n",
       "   (t, r, th, ph) |--> 0\n",
       "   (u, r, th, ph) |--> 0"
      ]
     },
     "metadata": {},
     "output_type": "display_data"
    },
    {
     "data": {
      "text/html": [
       "<html><script type=\"math/tex; mode=display\">\\newcommand{\\Bold}[1]{\\mathbf{#1}}\\begin{array}{llcl} g\\left(m,\\bar{m}\\right):& M & \\longrightarrow & \\mathbb{R} \\\\ & \\left(t, r, {\\theta}, {\\phi}\\right) & \\longmapsto & 1 \\\\ & \\left(u, r, {\\theta}, {\\phi}\\right) & \\longmapsto & 1 \\end{array}</script></html>"
      ],
      "text/latex": [
       "$$\\newcommand{\\Bold}[1]{\\mathbf{#1}}\\begin{array}{llcl} g\\left(m,\\bar{m}\\right):& M & \\longrightarrow & \\mathbb{R} \\\\ & \\left(t, r, {\\theta}, {\\phi}\\right) & \\longmapsto & 1 \\\\ & \\left(u, r, {\\theta}, {\\phi}\\right) & \\longmapsto & 1 \\end{array}$$"
      ],
      "text/plain": [
       "g(m,mb): M --> R\n",
       "   (t, r, th, ph) |--> 1\n",
       "   (u, r, th, ph) |--> 1"
      ]
     },
     "metadata": {},
     "output_type": "display_data"
    },
    {
     "data": {
      "text/html": [
       "<html><script type=\"math/tex; mode=display\">\\newcommand{\\Bold}[1]{\\mathbf{#1}}\\begin{array}{llcl} g\\left(\\bar{m},l\\right):& M & \\longrightarrow & \\mathbb{R} \\\\ & \\left(t, r, {\\theta}, {\\phi}\\right) & \\longmapsto & 0 \\\\ & \\left(u, r, {\\theta}, {\\phi}\\right) & \\longmapsto & 0 \\\\ & \\left({u'}, {r'}, {\\theta}, {\\phi}\\right) & \\longmapsto & 0 \\end{array}</script></html>"
      ],
      "text/latex": [
       "$$\\newcommand{\\Bold}[1]{\\mathbf{#1}}\\begin{array}{llcl} g\\left(\\bar{m},l\\right):& M & \\longrightarrow & \\mathbb{R} \\\\ & \\left(t, r, {\\theta}, {\\phi}\\right) & \\longmapsto & 0 \\\\ & \\left(u, r, {\\theta}, {\\phi}\\right) & \\longmapsto & 0 \\\\ & \\left({u'}, {r'}, {\\theta}, {\\phi}\\right) & \\longmapsto & 0 \\end{array}$$"
      ],
      "text/plain": [
       "g(mb,l): M --> R\n",
       "   (t, r, th, ph) |--> 0\n",
       "   (u, r, th, ph) |--> 0\n",
       "   (p, q, th, ph) |--> 0"
      ]
     },
     "metadata": {},
     "output_type": "display_data"
    },
    {
     "data": {
      "text/html": [
       "<html><script type=\"math/tex; mode=display\">\\newcommand{\\Bold}[1]{\\mathbf{#1}}\\begin{array}{llcl} g\\left(\\bar{m},n\\right):& M & \\longrightarrow & \\mathbb{R} \\\\ & \\left(t, r, {\\theta}, {\\phi}\\right) & \\longmapsto & 0 \\\\ & \\left(u, r, {\\theta}, {\\phi}\\right) & \\longmapsto & 0 \\\\ & \\left({u'}, {r'}, {\\theta}, {\\phi}\\right) & \\longmapsto & 0 \\end{array}</script></html>"
      ],
      "text/latex": [
       "$$\\newcommand{\\Bold}[1]{\\mathbf{#1}}\\begin{array}{llcl} g\\left(\\bar{m},n\\right):& M & \\longrightarrow & \\mathbb{R} \\\\ & \\left(t, r, {\\theta}, {\\phi}\\right) & \\longmapsto & 0 \\\\ & \\left(u, r, {\\theta}, {\\phi}\\right) & \\longmapsto & 0 \\\\ & \\left({u'}, {r'}, {\\theta}, {\\phi}\\right) & \\longmapsto & 0 \\end{array}$$"
      ],
      "text/plain": [
       "g(mb,n): M --> R\n",
       "   (t, r, th, ph) |--> 0\n",
       "   (u, r, th, ph) |--> 0\n",
       "   (p, q, th, ph) |--> 0"
      ]
     },
     "metadata": {},
     "output_type": "display_data"
    },
    {
     "data": {
      "text/html": [
       "<html><script type=\"math/tex; mode=display\">\\newcommand{\\Bold}[1]{\\mathbf{#1}}\\begin{array}{llcl} g\\left(\\bar{m},m\\right):& M & \\longrightarrow & \\mathbb{R} \\\\ & \\left(t, r, {\\theta}, {\\phi}\\right) & \\longmapsto & 1 \\\\ & \\left(u, r, {\\theta}, {\\phi}\\right) & \\longmapsto & 1 \\end{array}</script></html>"
      ],
      "text/latex": [
       "$$\\newcommand{\\Bold}[1]{\\mathbf{#1}}\\begin{array}{llcl} g\\left(\\bar{m},m\\right):& M & \\longrightarrow & \\mathbb{R} \\\\ & \\left(t, r, {\\theta}, {\\phi}\\right) & \\longmapsto & 1 \\\\ & \\left(u, r, {\\theta}, {\\phi}\\right) & \\longmapsto & 1 \\end{array}$$"
      ],
      "text/plain": [
       "g(mb,m): M --> R\n",
       "   (t, r, th, ph) |--> 1\n",
       "   (u, r, th, ph) |--> 1"
      ]
     },
     "metadata": {},
     "output_type": "display_data"
    },
    {
     "data": {
      "text/html": [
       "<html><script type=\"math/tex; mode=display\">\\newcommand{\\Bold}[1]{\\mathbf{#1}}\\begin{array}{llcl} g\\left(\\bar{m},\\bar{m}\\right):& M & \\longrightarrow & \\mathbb{R} \\\\ & \\left(t, r, {\\theta}, {\\phi}\\right) & \\longmapsto & 0 \\\\ & \\left(u, r, {\\theta}, {\\phi}\\right) & \\longmapsto & 0 \\end{array}</script></html>"
      ],
      "text/latex": [
       "$$\\newcommand{\\Bold}[1]{\\mathbf{#1}}\\begin{array}{llcl} g\\left(\\bar{m},\\bar{m}\\right):& M & \\longrightarrow & \\mathbb{R} \\\\ & \\left(t, r, {\\theta}, {\\phi}\\right) & \\longmapsto & 0 \\\\ & \\left(u, r, {\\theta}, {\\phi}\\right) & \\longmapsto & 0 \\end{array}$$"
      ],
      "text/plain": [
       "g(mb,mb): M --> R\n",
       "   (t, r, th, ph) |--> 0\n",
       "   (u, r, th, ph) |--> 0"
      ]
     },
     "metadata": {},
     "output_type": "display_data"
    }
   ],
   "source": [
    "#Aqui verificamos se o produto interno dos vetores que compõem nosso referencial satisfazem as condições impostas\n",
    "#para formarem um referencial de Newman-Penrose.\n",
    "for i in range(4):\n",
    "    for j in range(4):\n",
    "        show(g(e[i],e[j]).display())"
   ]
  },
  {
   "cell_type": "markdown",
   "metadata": {},
   "source": [
    "<p style='text-align: justify;'>If inner product satisfies the conditions, we should verify the relation between the metric and our seed metric, i.e., if we can write the seed metric as the tensorial product of $P^\\mu_a$ vectors. </p>\n",
    "\n",
    "To do this, we will define $P^\\mu_a$ as a frame."
   ]
  },
  {
   "cell_type": "code",
   "execution_count": 18,
   "metadata": {},
   "outputs": [],
   "source": [
    "#Definimos o referencial P\n",
    "P = M.vector_frame('P',e)"
   ]
  },
  {
   "cell_type": "code",
   "execution_count": 19,
   "metadata": {},
   "outputs": [
    {
     "data": {
      "text/html": [
       "<html><script type=\"math/tex; mode=display\">\\newcommand{\\Bold}[1]{\\mathbf{#1}}P_{0} = \\frac{1}{\\sqrt{A\\left(r\\right)} \\sqrt{B\\left(r\\right)}} \\frac{\\partial}{\\partial t } +\\frac{\\partial}{\\partial r }</script></html>"
      ],
      "text/latex": [
       "$$\\newcommand{\\Bold}[1]{\\mathbf{#1}}P_{0} = \\frac{1}{\\sqrt{A\\left(r\\right)} \\sqrt{B\\left(r\\right)}} \\frac{\\partial}{\\partial t } +\\frac{\\partial}{\\partial r }$$"
      ],
      "text/plain": [
       "P_0 = 1/(sqrt(A(r))*sqrt(B(r))) d/dt + d/dr"
      ]
     },
     "metadata": {},
     "output_type": "display_data"
    },
    {
     "data": {
      "text/html": [
       "<html><script type=\"math/tex; mode=display\">\\newcommand{\\Bold}[1]{\\mathbf{#1}}P_{1} = \\frac{\\sqrt{B\\left(r\\right)}}{2 \\, \\sqrt{A\\left(r\\right)}} \\frac{\\partial}{\\partial t } -\\frac{1}{2} \\, B\\left(r\\right) \\frac{\\partial}{\\partial r }</script></html>"
      ],
      "text/latex": [
       "$$\\newcommand{\\Bold}[1]{\\mathbf{#1}}P_{1} = \\frac{\\sqrt{B\\left(r\\right)}}{2 \\, \\sqrt{A\\left(r\\right)}} \\frac{\\partial}{\\partial t } -\\frac{1}{2} \\, B\\left(r\\right) \\frac{\\partial}{\\partial r }$$"
      ],
      "text/plain": [
       "P_1 = 1/2*sqrt(B(r))/sqrt(A(r)) d/dt - 1/2*B(r) d/dr"
      ]
     },
     "metadata": {},
     "output_type": "display_data"
    },
    {
     "data": {
      "text/html": [
       "<html><script type=\"math/tex; mode=display\">\\newcommand{\\Bold}[1]{\\mathbf{#1}}P_{2} = \\frac{\\sqrt{2}}{2 \\, \\sqrt{C\\left(r\\right)}} \\frac{\\partial}{\\partial {\\theta} } + \\frac{i \\, \\sqrt{2}}{2 \\, \\sqrt{C\\left(r\\right)} \\sin\\left({\\theta}\\right)} \\frac{\\partial}{\\partial {\\phi} }</script></html>"
      ],
      "text/latex": [
       "$$\\newcommand{\\Bold}[1]{\\mathbf{#1}}P_{2} = \\frac{\\sqrt{2}}{2 \\, \\sqrt{C\\left(r\\right)}} \\frac{\\partial}{\\partial {\\theta} } + \\frac{i \\, \\sqrt{2}}{2 \\, \\sqrt{C\\left(r\\right)} \\sin\\left({\\theta}\\right)} \\frac{\\partial}{\\partial {\\phi} }$$"
      ],
      "text/plain": [
       "P_2 = 1/2*sqrt(2)/sqrt(C(r)) d/dth + 1/2*I*sqrt(2)/(sqrt(C(r))*sin(th)) d/dph"
      ]
     },
     "metadata": {},
     "output_type": "display_data"
    },
    {
     "data": {
      "text/html": [
       "<html><script type=\"math/tex; mode=display\">\\newcommand{\\Bold}[1]{\\mathbf{#1}}P_{3} = \\frac{\\sqrt{2}}{2 \\, \\sqrt{C\\left(r\\right)}} \\frac{\\partial}{\\partial {\\theta} } -\\frac{i \\, \\sqrt{2}}{2 \\, \\sqrt{C\\left(r\\right)} \\sin\\left({\\theta}\\right)} \\frac{\\partial}{\\partial {\\phi} }</script></html>"
      ],
      "text/latex": [
       "$$\\newcommand{\\Bold}[1]{\\mathbf{#1}}P_{3} = \\frac{\\sqrt{2}}{2 \\, \\sqrt{C\\left(r\\right)}} \\frac{\\partial}{\\partial {\\theta} } -\\frac{i \\, \\sqrt{2}}{2 \\, \\sqrt{C\\left(r\\right)} \\sin\\left({\\theta}\\right)} \\frac{\\partial}{\\partial {\\phi} }$$"
      ],
      "text/plain": [
       "P_3 = 1/2*sqrt(2)/sqrt(C(r)) d/dth - 1/2*I*sqrt(2)/(sqrt(C(r))*sin(th)) d/dph"
      ]
     },
     "metadata": {},
     "output_type": "display_data"
    }
   ],
   "source": [
    "#referencial P no frame X. \n",
    "for j in range(4):\n",
    "    show(P[j].display())"
   ]
  },
  {
   "cell_type": "code",
   "execution_count": 20,
   "metadata": {},
   "outputs": [
    {
     "data": {
      "text/html": [
       "<html><script type=\"math/tex; mode=display\">\\newcommand{\\Bold}[1]{\\mathbf{#1}}P_{0} = \\frac{\\partial}{\\partial r }</script></html>"
      ],
      "text/latex": [
       "$$\\newcommand{\\Bold}[1]{\\mathbf{#1}}P_{0} = \\frac{\\partial}{\\partial r }$$"
      ],
      "text/plain": [
       "P_0 = d/dr"
      ]
     },
     "metadata": {},
     "output_type": "display_data"
    },
    {
     "data": {
      "text/html": [
       "<html><script type=\"math/tex; mode=display\">\\newcommand{\\Bold}[1]{\\mathbf{#1}}P_{1} = \\sqrt{\\frac{B\\left(r\\right)}{A\\left(r\\right)}} \\frac{\\partial}{\\partial u } -\\frac{1}{2} \\, B\\left(r\\right) \\frac{\\partial}{\\partial r }</script></html>"
      ],
      "text/latex": [
       "$$\\newcommand{\\Bold}[1]{\\mathbf{#1}}P_{1} = \\sqrt{\\frac{B\\left(r\\right)}{A\\left(r\\right)}} \\frac{\\partial}{\\partial u } -\\frac{1}{2} \\, B\\left(r\\right) \\frac{\\partial}{\\partial r }$$"
      ],
      "text/plain": [
       "P_1 = sqrt(B(r)/A(r)) d/du - 1/2*B(r) d/dr"
      ]
     },
     "metadata": {},
     "output_type": "display_data"
    },
    {
     "data": {
      "text/html": [
       "<html><script type=\"math/tex; mode=display\">\\newcommand{\\Bold}[1]{\\mathbf{#1}}P_{2} = \\frac{\\sqrt{2}}{2 \\, \\sqrt{C\\left(r\\right)}} \\frac{\\partial}{\\partial {\\theta} } + \\frac{i \\, \\sqrt{2}}{2 \\, \\sqrt{C\\left(r\\right)} \\sin\\left({\\theta}\\right)} \\frac{\\partial}{\\partial {\\phi} }</script></html>"
      ],
      "text/latex": [
       "$$\\newcommand{\\Bold}[1]{\\mathbf{#1}}P_{2} = \\frac{\\sqrt{2}}{2 \\, \\sqrt{C\\left(r\\right)}} \\frac{\\partial}{\\partial {\\theta} } + \\frac{i \\, \\sqrt{2}}{2 \\, \\sqrt{C\\left(r\\right)} \\sin\\left({\\theta}\\right)} \\frac{\\partial}{\\partial {\\phi} }$$"
      ],
      "text/plain": [
       "P_2 = 1/2*sqrt(2)/sqrt(C(r)) d/dth + 1/2*I*sqrt(2)/(sqrt(C(r))*sin(th)) d/dph"
      ]
     },
     "metadata": {},
     "output_type": "display_data"
    },
    {
     "data": {
      "text/html": [
       "<html><script type=\"math/tex; mode=display\">\\newcommand{\\Bold}[1]{\\mathbf{#1}}P_{3} = \\frac{\\sqrt{2}}{2 \\, \\sqrt{C\\left(r\\right)}} \\frac{\\partial}{\\partial {\\theta} } -\\frac{i \\, \\sqrt{2}}{2 \\, \\sqrt{C\\left(r\\right)} \\sin\\left({\\theta}\\right)} \\frac{\\partial}{\\partial {\\phi} }</script></html>"
      ],
      "text/latex": [
       "$$\\newcommand{\\Bold}[1]{\\mathbf{#1}}P_{3} = \\frac{\\sqrt{2}}{2 \\, \\sqrt{C\\left(r\\right)}} \\frac{\\partial}{\\partial {\\theta} } -\\frac{i \\, \\sqrt{2}}{2 \\, \\sqrt{C\\left(r\\right)} \\sin\\left({\\theta}\\right)} \\frac{\\partial}{\\partial {\\phi} }$$"
      ],
      "text/plain": [
       "P_3 = 1/2*sqrt(2)/sqrt(C(r)) d/dth - 1/2*I*sqrt(2)/(sqrt(C(r))*sin(th)) d/dph"
      ]
     },
     "metadata": {},
     "output_type": "display_data"
    }
   ],
   "source": [
    "#nosso referencial no frame U.\n",
    "for j in range(4):\n",
    "    show(P[j].display(U))"
   ]
  },
  {
   "cell_type": "code",
   "execution_count": 21,
   "metadata": {},
   "outputs": [
    {
     "data": {
      "text/html": [
       "<html><script type=\"math/tex; mode=display\">\\newcommand{\\Bold}[1]{\\mathbf{#1}}g = -P^{0}\\otimes P^{1}-P^{1}\\otimes P^{0}+P^{2}\\otimes P^{3}+P^{3}\\otimes P^{2}</script></html>"
      ],
      "text/latex": [
       "$$\\newcommand{\\Bold}[1]{\\mathbf{#1}}g = -P^{0}\\otimes P^{1}-P^{1}\\otimes P^{0}+P^{2}\\otimes P^{3}+P^{3}\\otimes P^{2}$$"
      ],
      "text/plain": [
       "g = -P^0*P^1 - P^1*P^0 + P^2*P^3 + P^3*P^2"
      ]
     },
     "execution_count": 21,
     "metadata": {},
     "output_type": "execute_result"
    }
   ],
   "source": [
    "#Aqui expressamos a métrica como o produto tensorial dos vetores.\n",
    "g.display(P)"
   ]
  },
  {
   "cell_type": "code",
   "execution_count": 22,
   "metadata": {},
   "outputs": [
    {
     "data": {
      "text/html": [
       "<html><script type=\"math/tex; mode=display\">\\newcommand{\\Bold}[1]{\\mathbf{#1}}-l\\otimes n-n\\otimes l+m\\otimes \\bar{m}+\\bar{m}\\otimes m = -\\frac{1}{A\\left(r\\right)} \\frac{\\partial}{\\partial t }\\otimes \\frac{\\partial}{\\partial t } + B\\left(r\\right) \\frac{\\partial}{\\partial r }\\otimes \\frac{\\partial}{\\partial r } + \\frac{1}{C\\left(r\\right)} \\frac{\\partial}{\\partial {\\theta} }\\otimes \\frac{\\partial}{\\partial {\\theta} } + \\frac{1}{C\\left(r\\right) \\sin\\left({\\theta}\\right)^{2}} \\frac{\\partial}{\\partial {\\phi} }\\otimes \\frac{\\partial}{\\partial {\\phi} }</script></html>"
      ],
      "text/latex": [
       "$$\\newcommand{\\Bold}[1]{\\mathbf{#1}}-l\\otimes n-n\\otimes l+m\\otimes \\bar{m}+\\bar{m}\\otimes m = -\\frac{1}{A\\left(r\\right)} \\frac{\\partial}{\\partial t }\\otimes \\frac{\\partial}{\\partial t } + B\\left(r\\right) \\frac{\\partial}{\\partial r }\\otimes \\frac{\\partial}{\\partial r } + \\frac{1}{C\\left(r\\right)} \\frac{\\partial}{\\partial {\\theta} }\\otimes \\frac{\\partial}{\\partial {\\theta} } + \\frac{1}{C\\left(r\\right) \\sin\\left({\\theta}\\right)^{2}} \\frac{\\partial}{\\partial {\\phi} }\\otimes \\frac{\\partial}{\\partial {\\phi} }$$"
      ],
      "text/plain": [
       "-l*n-n*l+m*mb+mb*m = -1/A(r) d/dt*d/dt + B(r) d/dr*d/dr + 1/C(r) d/dth*d/dth + 1/(C(r)*sin(th)^2) d/dph*d/dph"
      ]
     },
     "execution_count": 22,
     "metadata": {},
     "output_type": "execute_result"
    }
   ],
   "source": [
    "# Se ainda restar, dúvidas podemos determinar o produto g = -l*n - n*l + m*mb + mb*m.\n",
    "# Devemos obter g^{\\mu\\nu}\n",
    "(-l*n - n*l + m*mb + mb*m).display() #em X"
   ]
  },
  {
   "cell_type": "code",
   "execution_count": 23,
   "metadata": {},
   "outputs": [
    {
     "data": {
      "text/html": [
       "<html><script type=\"math/tex; mode=display\">\\newcommand{\\Bold}[1]{\\mathbf{#1}}-l\\otimes n-n\\otimes l+m\\otimes \\bar{m}+\\bar{m}\\otimes m = -\\frac{\\sqrt{B\\left(r\\right)}}{\\sqrt{A\\left(r\\right)}} \\frac{\\partial}{\\partial u }\\otimes \\frac{\\partial}{\\partial r } -\\frac{\\sqrt{B\\left(r\\right)}}{\\sqrt{A\\left(r\\right)}} \\frac{\\partial}{\\partial r }\\otimes \\frac{\\partial}{\\partial u } + B\\left(r\\right) \\frac{\\partial}{\\partial r }\\otimes \\frac{\\partial}{\\partial r } + \\frac{1}{C\\left(r\\right)} \\frac{\\partial}{\\partial {\\theta} }\\otimes \\frac{\\partial}{\\partial {\\theta} } + \\frac{1}{C\\left(r\\right) \\sin\\left({\\theta}\\right)^{2}} \\frac{\\partial}{\\partial {\\phi} }\\otimes \\frac{\\partial}{\\partial {\\phi} }</script></html>"
      ],
      "text/latex": [
       "$$\\newcommand{\\Bold}[1]{\\mathbf{#1}}-l\\otimes n-n\\otimes l+m\\otimes \\bar{m}+\\bar{m}\\otimes m = -\\frac{\\sqrt{B\\left(r\\right)}}{\\sqrt{A\\left(r\\right)}} \\frac{\\partial}{\\partial u }\\otimes \\frac{\\partial}{\\partial r } -\\frac{\\sqrt{B\\left(r\\right)}}{\\sqrt{A\\left(r\\right)}} \\frac{\\partial}{\\partial r }\\otimes \\frac{\\partial}{\\partial u } + B\\left(r\\right) \\frac{\\partial}{\\partial r }\\otimes \\frac{\\partial}{\\partial r } + \\frac{1}{C\\left(r\\right)} \\frac{\\partial}{\\partial {\\theta} }\\otimes \\frac{\\partial}{\\partial {\\theta} } + \\frac{1}{C\\left(r\\right) \\sin\\left({\\theta}\\right)^{2}} \\frac{\\partial}{\\partial {\\phi} }\\otimes \\frac{\\partial}{\\partial {\\phi} }$$"
      ],
      "text/plain": [
       "-l*n-n*l+m*mb+mb*m = -sqrt(B(r))/sqrt(A(r)) d/du*d/dr - sqrt(B(r))/sqrt(A(r)) d/dr*d/du + B(r) d/dr*d/dr + 1/C(r) d/dth*d/dth + 1/(C(r)*sin(th)^2) d/dph*d/dph"
      ]
     },
     "execution_count": 23,
     "metadata": {},
     "output_type": "execute_result"
    }
   ],
   "source": [
    "(-l*n - n*l + m*mb + mb*m).display(U) #em U"
   ]
  },
  {
   "cell_type": "code",
   "execution_count": 24,
   "metadata": {},
   "outputs": [
    {
     "data": {
      "text/html": [
       "<html><script type=\"math/tex; mode=display\">\\newcommand{\\Bold}[1]{\\mathbf{#1}}-A\\left(r\\right) \\mathrm{d} t\\otimes \\mathrm{d} t + \\frac{1}{B\\left(r\\right)} \\mathrm{d} r\\otimes \\mathrm{d} r + C\\left(r\\right) \\mathrm{d} {\\theta}\\otimes \\mathrm{d} {\\theta} + C\\left(r\\right) \\sin\\left({\\theta}\\right)^{2} \\mathrm{d} {\\phi}\\otimes \\mathrm{d} {\\phi}</script></html>"
      ],
      "text/latex": [
       "$$\\newcommand{\\Bold}[1]{\\mathbf{#1}}-A\\left(r\\right) \\mathrm{d} t\\otimes \\mathrm{d} t + \\frac{1}{B\\left(r\\right)} \\mathrm{d} r\\otimes \\mathrm{d} r + C\\left(r\\right) \\mathrm{d} {\\theta}\\otimes \\mathrm{d} {\\theta} + C\\left(r\\right) \\sin\\left({\\theta}\\right)^{2} \\mathrm{d} {\\phi}\\otimes \\mathrm{d} {\\phi}$$"
      ],
      "text/plain": [
       "-A(r) dt*dt + 1/B(r) dr*dr + C(r) dth*dth + C(r)*sin(th)^2 dph*dph"
      ]
     },
     "execution_count": 24,
     "metadata": {},
     "output_type": "execute_result"
    }
   ],
   "source": [
    "#Para obter a métrica g_{\\mu\\nu}, basta descer os índices do produto.\n",
    "((-l*n - n*l + m*mb + mb*m).down(g)).display() #em X"
   ]
  },
  {
   "cell_type": "code",
   "execution_count": 25,
   "metadata": {},
   "outputs": [
    {
     "data": {
      "text/html": [
       "<html><script type=\"math/tex; mode=display\">\\newcommand{\\Bold}[1]{\\mathbf{#1}}-A\\left(r\\right) \\mathrm{d} u\\otimes \\mathrm{d} u -\\frac{\\sqrt{A\\left(r\\right)}}{\\sqrt{B\\left(r\\right)}} \\mathrm{d} u\\otimes \\mathrm{d} r -\\frac{\\sqrt{A\\left(r\\right)}}{\\sqrt{B\\left(r\\right)}} \\mathrm{d} r\\otimes \\mathrm{d} u + C\\left(r\\right) \\mathrm{d} {\\theta}\\otimes \\mathrm{d} {\\theta} + C\\left(r\\right) \\sin\\left({\\theta}\\right)^{2} \\mathrm{d} {\\phi}\\otimes \\mathrm{d} {\\phi}</script></html>"
      ],
      "text/latex": [
       "$$\\newcommand{\\Bold}[1]{\\mathbf{#1}}-A\\left(r\\right) \\mathrm{d} u\\otimes \\mathrm{d} u -\\frac{\\sqrt{A\\left(r\\right)}}{\\sqrt{B\\left(r\\right)}} \\mathrm{d} u\\otimes \\mathrm{d} r -\\frac{\\sqrt{A\\left(r\\right)}}{\\sqrt{B\\left(r\\right)}} \\mathrm{d} r\\otimes \\mathrm{d} u + C\\left(r\\right) \\mathrm{d} {\\theta}\\otimes \\mathrm{d} {\\theta} + C\\left(r\\right) \\sin\\left({\\theta}\\right)^{2} \\mathrm{d} {\\phi}\\otimes \\mathrm{d} {\\phi}$$"
      ],
      "text/plain": [
       "-A(r) du*du - sqrt(A(r))/sqrt(B(r)) du*dr - sqrt(A(r))/sqrt(B(r)) dr*du + C(r) dth*dth + C(r)*sin(th)^2 dph*dph"
      ]
     },
     "execution_count": 25,
     "metadata": {},
     "output_type": "execute_result"
    }
   ],
   "source": [
    "((-l*n - n*l + m*mb + mb*m).down(g)).display(U) #em U "
   ]
  },
  {
   "cell_type": "markdown",
   "metadata": {},
   "source": [
    "## Complexification of $A(r)$, $B(r)$ and $C(r)$\n",
    "\n",
    "**3rd step**: complexification of functions $A(r)$, $B(r)$ and $C(r)$;\n",
    "<p style='text-align: justify;'>We perform a complexification of functions $A(r)$, $B(r)$ and $C(r)$. This procedure has some arbitrariness, but we can set some empirical rules. Such arbitrariness is the main reason for checking if the equations of motions are satisfied.</p>\n",
    "\n",
    "Next, we present how these functions change under a complexification ([source](https://arxiv.org/abs/1701.00037)):\n",
    "\n",
    "\\begin{equation}\n",
    "\\frac{1}{r} \\mapsto \\frac{{\\rm Re}r'}{|r'|^2},\n",
    "\\end{equation}\n",
    "\n",
    "\\begin{equation}\n",
    "r \\mapsto {\\rm Re}r',\n",
    "\\end{equation}\n",
    "\n",
    "\\begin{equation}\n",
    "r^2 \\mapsto |r'|^2,\n",
    "\\end{equation}\n",
    "com $r'\\in \\mathbb{C}$.\n",
    "\n",
    "Any other complexification of a function could be expressed as combination of these presented, like $\\frac{1}{r^2} \\mapsto \\frac{1}{|r'|^2}$.\n",
    " \n",
    "*Example*:\n",
    "\n",
    "In  outgoing Eddington-Finkelstein coordinates, Schwarzschild element line has the form:\n",
    "\n",
    "\\begin{equation}\n",
    "-\\left(1 - \\frac{2m}{r}\\right)du^2 - 2dudr + r^2d\\theta^2 + r^2\\sin(\\theta)^2 d\\phi^2.\n",
    "\\end{equation}\n",
    "\n",
    "Therefore,\n",
    "\n",
    "\\begin{equation}\n",
    "A(r) = B(r) = 1 - \\frac{2m}{r}.\n",
    "\\end{equation}\n",
    "\n",
    "Under a complexification, $A(r)$ transforms as:\n",
    "\n",
    "\\begin{equation}\n",
    "1 - \\frac{2m}{r} \\mapsto 1 - \\frac{2m {\\rm Re}r'}{|r'|^2}.\n",
    "\\end{equation}\n",
    "\n",
    "## Performing a complex transformation\n",
    "\n",
    "**3rd step**: performing the complex transformation.\n",
    "\n",
    "We perform a complex transformation from $U$ to $K$:\n",
    "\n",
    "\\begin{equation}\n",
    "\\left\\{\\begin{array}{ll} u = u' + ia\\cos(\\theta) \\\\ r = r'- ia\\cos(\\theta)\\\\ \\theta = \\theta \\\\ \\phi = \\phi \\end{array}\\right..\n",
    "\\end{equation}\n"
   ]
  },
  {
   "cell_type": "code",
   "execution_count": 26,
   "metadata": {},
   "outputs": [],
   "source": [
    "a = var('a', domain='real')"
   ]
  },
  {
   "cell_type": "code",
   "execution_count": 27,
   "metadata": {},
   "outputs": [],
   "source": [
    "#Definimos as complexificações das funções da métrica\n",
    "ρ = function('ρ')(q, th, a) #ρ = |r'|\n",
    "Ψ = function('Ψ')(q,th,a) #complexificação de B(r)\n",
    "Φ = function('Φ')(q,th,a) #complexificação de A(r)\n",
    "H = ρ**2 #complexificação de C(r)"
   ]
  },
  {
   "cell_type": "code",
   "execution_count": 28,
   "metadata": {},
   "outputs": [],
   "source": [
    "#mudança de U para K\n",
    "U_to_K = U.transition_map(K, [u - I*a*cos(th), r + I*a*cos(th), th, ph])"
   ]
  },
  {
   "cell_type": "code",
   "execution_count": 29,
   "metadata": {},
   "outputs": [
    {
     "data": {
      "text/html": [
       "<html><script type=\"math/tex; mode=display\">\\newcommand{\\Bold}[1]{\\mathbf{#1}}\\left\\{\\begin{array}{lcl} {u'} & = & -i \\, a \\cos\\left({\\theta}\\right) + u \\\\ {r'} & = & i \\, a \\cos\\left({\\theta}\\right) + r \\\\ {\\theta} & = & {\\theta} \\\\ {\\phi} & = & {\\phi} \\end{array}\\right.</script></html>"
      ],
      "text/latex": [
       "$$\\newcommand{\\Bold}[1]{\\mathbf{#1}}\\left\\{\\begin{array}{lcl} {u'} & = & -i \\, a \\cos\\left({\\theta}\\right) + u \\\\ {r'} & = & i \\, a \\cos\\left({\\theta}\\right) + r \\\\ {\\theta} & = & {\\theta} \\\\ {\\phi} & = & {\\phi} \\end{array}\\right.$$"
      ],
      "text/plain": [
       "p = -I*a*cos(th) + u\n",
       "q = I*a*cos(th) + r\n",
       "th = th\n",
       "ph = ph"
      ]
     },
     "execution_count": 29,
     "metadata": {},
     "output_type": "execute_result"
    }
   ],
   "source": [
    "U_to_K.display()"
   ]
  },
  {
   "cell_type": "code",
   "execution_count": 30,
   "metadata": {},
   "outputs": [
    {
     "data": {
      "text/html": [
       "<html><script type=\"math/tex; mode=display\">\\newcommand{\\Bold}[1]{\\mathbf{#1}}\\left\\{\\begin{array}{lcl} u & = & i \\, a \\cos\\left({\\theta}\\right) + {u'} \\\\ r & = & -i \\, a \\cos\\left({\\theta}\\right) + {r'} \\\\ {\\theta} & = & {\\theta} \\\\ {\\phi} & = & {\\phi} \\end{array}\\right.</script></html>"
      ],
      "text/latex": [
       "$$\\newcommand{\\Bold}[1]{\\mathbf{#1}}\\left\\{\\begin{array}{lcl} u & = & i \\, a \\cos\\left({\\theta}\\right) + {u'} \\\\ r & = & -i \\, a \\cos\\left({\\theta}\\right) + {r'} \\\\ {\\theta} & = & {\\theta} \\\\ {\\phi} & = & {\\phi} \\end{array}\\right.$$"
      ],
      "text/plain": [
       "u = I*a*cos(th) + p\n",
       "r = -I*a*cos(th) + q\n",
       "th = th\n",
       "ph = ph"
      ]
     },
     "execution_count": 30,
     "metadata": {},
     "output_type": "execute_result"
    }
   ],
   "source": [
    "U_to_K.inverse().display()"
   ]
  },
  {
   "cell_type": "markdown",
   "metadata": {},
   "source": [
    "We need to input these complexification on our Newman-Penrose frame. Once we do this, we can no longer raising or lowering indices with our seed metric $g_{\\mu\\nu}$."
   ]
  },
  {
   "cell_type": "code",
   "execution_count": 31,
   "metadata": {
    "scrolled": true
   },
   "outputs": [
    {
     "data": {
      "text/html": [
       "<html><script type=\"math/tex; mode=display\">\\newcommand{\\Bold}[1]{\\mathbf{#1}}\\left[\\left[0, 1, 0, 0\\right], \\left[\\sqrt{\\frac{B\\left(r\\right)}{A\\left(r\\right)}}, -\\frac{1}{2} \\, B\\left(r\\right), 0, 0\\right], \\left[0, 0, \\frac{\\sqrt{2}}{2 \\, \\sqrt{C\\left(r\\right)}}, \\frac{i \\, \\sqrt{2}}{2 \\, \\sqrt{C\\left(r\\right)} \\sin\\left({\\theta}\\right)}\\right], \\left[0, 0, \\frac{\\sqrt{2}}{2 \\, \\sqrt{C\\left(r\\right)}}, -\\frac{i \\, \\sqrt{2}}{2 \\, \\sqrt{C\\left(r\\right)} \\sin\\left({\\theta}\\right)}\\right]\\right]</script></html>"
      ],
      "text/latex": [
       "$$\\newcommand{\\Bold}[1]{\\mathbf{#1}}\\left[\\left[0, 1, 0, 0\\right], \\left[\\sqrt{\\frac{B\\left(r\\right)}{A\\left(r\\right)}}, -\\frac{1}{2} \\, B\\left(r\\right), 0, 0\\right], \\left[0, 0, \\frac{\\sqrt{2}}{2 \\, \\sqrt{C\\left(r\\right)}}, \\frac{i \\, \\sqrt{2}}{2 \\, \\sqrt{C\\left(r\\right)} \\sin\\left({\\theta}\\right)}\\right], \\left[0, 0, \\frac{\\sqrt{2}}{2 \\, \\sqrt{C\\left(r\\right)}}, -\\frac{i \\, \\sqrt{2}}{2 \\, \\sqrt{C\\left(r\\right)} \\sin\\left({\\theta}\\right)}\\right]\\right]$$"
      ],
      "text/plain": [
       "[[0, 1, 0, 0],\n",
       " [sqrt(B(r)/A(r)), -1/2*B(r), 0, 0],\n",
       " [0, 0, 1/2*sqrt(2)/sqrt(C(r)), 1/2*I*sqrt(2)/(sqrt(C(r))*sin(th))],\n",
       " [0, 0, 1/2*sqrt(2)/sqrt(C(r)), -1/2*I*sqrt(2)/(sqrt(C(r))*sin(th))]]"
      ]
     },
     "execution_count": 31,
     "metadata": {},
     "output_type": "execute_result"
    }
   ],
   "source": [
    "#lista (?) com os vetores de P.\n",
    "complexificação = [e[z][U.frame(),:,U] for z in range(4)]; complexificação"
   ]
  },
  {
   "cell_type": "code",
   "execution_count": 32,
   "metadata": {},
   "outputs": [],
   "source": [
    "#Substituremos os em cada um dos termos de cada um dos vetores as funções da métrica e guardaremos em outras listas.\n",
    "#Cada lista referente a cada vetor de P.\n",
    "lcomplexificado = []\n",
    "for j in complexificação[0]:\n",
    "    lcomplexificado.append(j.expr().subs({A:Φ, B: Ψ, C: H}))\n",
    "    \n",
    "ncomplexificado = []\n",
    "for j in complexificação[1]:\n",
    "    ncomplexificado.append(j.expr().subs({A:Φ, B: Ψ, C: H}))\n",
    "    \n",
    "mcomplexificado = []\n",
    "for j in complexificação[2]:\n",
    "    mcomplexificado.append(j.expr().subs({A:Φ, B: Ψ, C: H}))\n",
    "    \n",
    "mbcomplexificado = []\n",
    "for j in complexificação[3]:\n",
    "    mbcomplexificado.append(j.expr().subs({A:Φ, B: Ψ, C: H}))\n",
    "    \n",
    "#Redifinindo a tetrada após complexificação\n",
    "\n",
    "l = M.vector_field(name='l')\n",
    "l[U.frame(), :, U] = lcomplexificado\n",
    "\n",
    "n = M.vector_field(name='n')\n",
    "n[U.frame(), :, U] = ncomplexificado\n",
    "\n",
    "m = M.vector_field(name='m')\n",
    "m[U.frame(), :, U] = mcomplexificado\n",
    "\n",
    "mb = M.vector_field(name='mb', latex_name=r'\\bar{m}')\n",
    "mb[U.frame(), :, U] = mbcomplexificado\n",
    "\n",
    "ec = [l,n,m,mb]"
   ]
  },
  {
   "cell_type": "code",
   "execution_count": 33,
   "metadata": {},
   "outputs": [
    {
     "data": {
      "text/html": [
       "<html><script type=\"math/tex; mode=display\">\\newcommand{\\Bold}[1]{\\mathbf{#1}}l = \\frac{\\partial}{\\partial r }</script></html>"
      ],
      "text/latex": [
       "$$\\newcommand{\\Bold}[1]{\\mathbf{#1}}l = \\frac{\\partial}{\\partial r }$$"
      ],
      "text/plain": [
       "l = d/dr"
      ]
     },
     "metadata": {},
     "output_type": "display_data"
    },
    {
     "data": {
      "text/html": [
       "<html><script type=\"math/tex; mode=display\">\\newcommand{\\Bold}[1]{\\mathbf{#1}}n = \\sqrt{\\frac{Ψ\\left({r'}, {\\theta}, a\\right)}{Φ\\left({r'}, {\\theta}, a\\right)}} \\frac{\\partial}{\\partial u } -\\frac{1}{2} \\, Ψ\\left({r'}, {\\theta}, a\\right) \\frac{\\partial}{\\partial r }</script></html>"
      ],
      "text/latex": [
       "$$\\newcommand{\\Bold}[1]{\\mathbf{#1}}n = \\sqrt{\\frac{Ψ\\left({r'}, {\\theta}, a\\right)}{Φ\\left({r'}, {\\theta}, a\\right)}} \\frac{\\partial}{\\partial u } -\\frac{1}{2} \\, Ψ\\left({r'}, {\\theta}, a\\right) \\frac{\\partial}{\\partial r }$$"
      ],
      "text/plain": [
       "n = sqrt(Ψ(q, th, a)/Φ(q, th, a)) d/du - 1/2*Ψ(q, th, a) d/dr"
      ]
     },
     "metadata": {},
     "output_type": "display_data"
    },
    {
     "data": {
      "text/html": [
       "<html><script type=\"math/tex; mode=display\">\\newcommand{\\Bold}[1]{\\mathbf{#1}}m = \\frac{\\sqrt{2}}{2 \\, \\sqrt{ρ\\left({r'}, {\\theta}, a\\right)^{2}}} \\frac{\\partial}{\\partial {\\theta} } + \\frac{i \\, \\sqrt{2}}{2 \\, \\sqrt{ρ\\left({r'}, {\\theta}, a\\right)^{2}} \\sin\\left({\\theta}\\right)} \\frac{\\partial}{\\partial {\\phi} }</script></html>"
      ],
      "text/latex": [
       "$$\\newcommand{\\Bold}[1]{\\mathbf{#1}}m = \\frac{\\sqrt{2}}{2 \\, \\sqrt{ρ\\left({r'}, {\\theta}, a\\right)^{2}}} \\frac{\\partial}{\\partial {\\theta} } + \\frac{i \\, \\sqrt{2}}{2 \\, \\sqrt{ρ\\left({r'}, {\\theta}, a\\right)^{2}} \\sin\\left({\\theta}\\right)} \\frac{\\partial}{\\partial {\\phi} }$$"
      ],
      "text/plain": [
       "m = 1/2*sqrt(2)/sqrt(ρ(q, th, a)^2) d/dth + 1/2*I*sqrt(2)/(sqrt(ρ(q, th, a)^2)*sin(th)) d/dph"
      ]
     },
     "metadata": {},
     "output_type": "display_data"
    },
    {
     "data": {
      "text/html": [
       "<html><script type=\"math/tex; mode=display\">\\newcommand{\\Bold}[1]{\\mathbf{#1}}\\bar{m} = \\frac{\\sqrt{2}}{2 \\, \\sqrt{ρ\\left({r'}, {\\theta}, a\\right)^{2}}} \\frac{\\partial}{\\partial {\\theta} } -\\frac{i \\, \\sqrt{2}}{2 \\, \\sqrt{ρ\\left({r'}, {\\theta}, a\\right)^{2}} \\sin\\left({\\theta}\\right)} \\frac{\\partial}{\\partial {\\phi} }</script></html>"
      ],
      "text/latex": [
       "$$\\newcommand{\\Bold}[1]{\\mathbf{#1}}\\bar{m} = \\frac{\\sqrt{2}}{2 \\, \\sqrt{ρ\\left({r'}, {\\theta}, a\\right)^{2}}} \\frac{\\partial}{\\partial {\\theta} } -\\frac{i \\, \\sqrt{2}}{2 \\, \\sqrt{ρ\\left({r'}, {\\theta}, a\\right)^{2}} \\sin\\left({\\theta}\\right)} \\frac{\\partial}{\\partial {\\phi} }$$"
      ],
      "text/plain": [
       "mb = 1/2*sqrt(2)/sqrt(ρ(q, th, a)^2) d/dth - 1/2*I*sqrt(2)/(sqrt(ρ(q, th, a)^2)*sin(th)) d/dph"
      ]
     },
     "metadata": {},
     "output_type": "display_data"
    }
   ],
   "source": [
    "for j in range(4):\n",
    "        show(ec[j].display(U))"
   ]
  },
  {
   "cell_type": "code",
   "execution_count": 34,
   "metadata": {
    "scrolled": true
   },
   "outputs": [
    {
     "data": {
      "text/html": [
       "<html><script type=\"math/tex; mode=display\">\\newcommand{\\Bold}[1]{\\mathbf{#1}}l = \\frac{\\partial}{\\partial {r'} }</script></html>"
      ],
      "text/latex": [
       "$$\\newcommand{\\Bold}[1]{\\mathbf{#1}}l = \\frac{\\partial}{\\partial {r'} }$$"
      ],
      "text/plain": [
       "l = d/dq"
      ]
     },
     "metadata": {},
     "output_type": "display_data"
    },
    {
     "data": {
      "text/html": [
       "<html><script type=\"math/tex; mode=display\">\\newcommand{\\Bold}[1]{\\mathbf{#1}}n = \\frac{\\sqrt{Ψ\\left({r'}, {\\theta}, a\\right)}}{\\sqrt{Φ\\left({r'}, {\\theta}, a\\right)}} \\frac{\\partial}{\\partial {u'} } -\\frac{1}{2} \\, Ψ\\left({r'}, {\\theta}, a\\right) \\frac{\\partial}{\\partial {r'} }</script></html>"
      ],
      "text/latex": [
       "$$\\newcommand{\\Bold}[1]{\\mathbf{#1}}n = \\frac{\\sqrt{Ψ\\left({r'}, {\\theta}, a\\right)}}{\\sqrt{Φ\\left({r'}, {\\theta}, a\\right)}} \\frac{\\partial}{\\partial {u'} } -\\frac{1}{2} \\, Ψ\\left({r'}, {\\theta}, a\\right) \\frac{\\partial}{\\partial {r'} }$$"
      ],
      "text/plain": [
       "n = sqrt(Ψ(q, th, a))/sqrt(Φ(q, th, a)) d/dp - 1/2*Ψ(q, th, a) d/dq"
      ]
     },
     "metadata": {},
     "output_type": "display_data"
    },
    {
     "data": {
      "text/html": [
       "<html><script type=\"math/tex; mode=display\">\\newcommand{\\Bold}[1]{\\mathbf{#1}}m = \\frac{i \\, \\sqrt{2} a \\sin\\left({\\theta}\\right)}{2 \\, {\\left| ρ\\left({r'}, {\\theta}, a\\right) \\right|}} \\frac{\\partial}{\\partial {u'} } -\\frac{i \\, \\sqrt{2} a \\sin\\left({\\theta}\\right)}{2 \\, {\\left| ρ\\left({r'}, {\\theta}, a\\right) \\right|}} \\frac{\\partial}{\\partial {r'} } + \\frac{\\sqrt{2}}{2 \\, {\\left| ρ\\left({r'}, {\\theta}, a\\right) \\right|}} \\frac{\\partial}{\\partial {\\theta} } + \\frac{i \\, \\sqrt{2}}{2 \\, {\\left| ρ\\left({r'}, {\\theta}, a\\right) \\right|} \\sin\\left({\\theta}\\right)} \\frac{\\partial}{\\partial {\\phi} }</script></html>"
      ],
      "text/latex": [
       "$$\\newcommand{\\Bold}[1]{\\mathbf{#1}}m = \\frac{i \\, \\sqrt{2} a \\sin\\left({\\theta}\\right)}{2 \\, {\\left| ρ\\left({r'}, {\\theta}, a\\right) \\right|}} \\frac{\\partial}{\\partial {u'} } -\\frac{i \\, \\sqrt{2} a \\sin\\left({\\theta}\\right)}{2 \\, {\\left| ρ\\left({r'}, {\\theta}, a\\right) \\right|}} \\frac{\\partial}{\\partial {r'} } + \\frac{\\sqrt{2}}{2 \\, {\\left| ρ\\left({r'}, {\\theta}, a\\right) \\right|}} \\frac{\\partial}{\\partial {\\theta} } + \\frac{i \\, \\sqrt{2}}{2 \\, {\\left| ρ\\left({r'}, {\\theta}, a\\right) \\right|} \\sin\\left({\\theta}\\right)} \\frac{\\partial}{\\partial {\\phi} }$$"
      ],
      "text/plain": [
       "m = 1/2*I*sqrt(2)*a*sin(th)/abs(ρ(q, th, a)) d/dp - 1/2*I*sqrt(2)*a*sin(th)/abs(ρ(q, th, a)) d/dq + 1/2*sqrt(2)/abs(ρ(q, th, a)) d/dth + 1/2*I*sqrt(2)/(abs(ρ(q, th, a))*sin(th)) d/dph"
      ]
     },
     "metadata": {},
     "output_type": "display_data"
    },
    {
     "data": {
      "text/html": [
       "<html><script type=\"math/tex; mode=display\">\\newcommand{\\Bold}[1]{\\mathbf{#1}}\\bar{m} = \\frac{i \\, \\sqrt{2} a \\sin\\left({\\theta}\\right)}{2 \\, {\\left| ρ\\left({r'}, {\\theta}, a\\right) \\right|}} \\frac{\\partial}{\\partial {u'} } -\\frac{i \\, \\sqrt{2} a \\sin\\left({\\theta}\\right)}{2 \\, {\\left| ρ\\left({r'}, {\\theta}, a\\right) \\right|}} \\frac{\\partial}{\\partial {r'} } + \\frac{\\sqrt{2}}{2 \\, {\\left| ρ\\left({r'}, {\\theta}, a\\right) \\right|}} \\frac{\\partial}{\\partial {\\theta} } -\\frac{i \\, \\sqrt{2}}{2 \\, {\\left| ρ\\left({r'}, {\\theta}, a\\right) \\right|} \\sin\\left({\\theta}\\right)} \\frac{\\partial}{\\partial {\\phi} }</script></html>"
      ],
      "text/latex": [
       "$$\\newcommand{\\Bold}[1]{\\mathbf{#1}}\\bar{m} = \\frac{i \\, \\sqrt{2} a \\sin\\left({\\theta}\\right)}{2 \\, {\\left| ρ\\left({r'}, {\\theta}, a\\right) \\right|}} \\frac{\\partial}{\\partial {u'} } -\\frac{i \\, \\sqrt{2} a \\sin\\left({\\theta}\\right)}{2 \\, {\\left| ρ\\left({r'}, {\\theta}, a\\right) \\right|}} \\frac{\\partial}{\\partial {r'} } + \\frac{\\sqrt{2}}{2 \\, {\\left| ρ\\left({r'}, {\\theta}, a\\right) \\right|}} \\frac{\\partial}{\\partial {\\theta} } -\\frac{i \\, \\sqrt{2}}{2 \\, {\\left| ρ\\left({r'}, {\\theta}, a\\right) \\right|} \\sin\\left({\\theta}\\right)} \\frac{\\partial}{\\partial {\\phi} }$$"
      ],
      "text/plain": [
       "mb = 1/2*I*sqrt(2)*a*sin(th)/abs(ρ(q, th, a)) d/dp - 1/2*I*sqrt(2)*a*sin(th)/abs(ρ(q, th, a)) d/dq + 1/2*sqrt(2)/abs(ρ(q, th, a)) d/dth - 1/2*I*sqrt(2)/(abs(ρ(q, th, a))*sin(th)) d/dph"
      ]
     },
     "metadata": {},
     "output_type": "display_data"
    }
   ],
   "source": [
    "#os vetores de P no frame K (após considerar a complexificação das funções).\n",
    "for j in range(4):\n",
    "    show(ec[j].display(K))"
   ]
  },
  {
   "cell_type": "markdown",
   "metadata": {},
   "source": [
    "After verifying $m$ e $\\bar{m}$, we realize $\\bar{m}$ do not keep the original relation with $m$. All $\\bar{m}$'s componentes are the complex conjugates of $m$'s components. That relation must be maintained. The problem is our way to define $\\bar{m}$, when Sage computes $\\bar{m}$ after all transformations we did, it cannot keep this relation. The best way to correct it and keep the relation between vectors is rewriting $\\bar{m}$ from $m$ after all transformations. We must redefine $\\bar{m}$'s components as the complex conjugates of $m$'s componentes."
   ]
  },
  {
   "cell_type": "code",
   "execution_count": 35,
   "metadata": {},
   "outputs": [],
   "source": [
    "#Correção\n",
    "\n",
    "mtermosconjugados = []\n",
    "\n",
    "for j in ec[2][K.frame(),:,K]:\n",
    "    mtermosconjugados.append(conjugate(j.expr()))\n",
    "    \n",
    "mb = M.vector_field(name='mb', latex_name=r'\\bar{m}')\n",
    "mb[K.frame(), :, K] = mtermosconjugados"
   ]
  },
  {
   "cell_type": "markdown",
   "metadata": {},
   "source": [
    "Finally, we obtain the new metric computing the tensorial product:\n",
    "\n",
    "\\begin{equation}\n",
    "- l \\otimes n - n \\otimes l + m\\otimes \\bar{m} + \\bar{m} \\otimes m.\n",
    "\\end{equation}\n",
    "\n",
    "Our Newman-Penrose frame is not the same from starting point. After all transformations we did, $l^\\mu$, $n^\\mu$, $m^\\mu$ and $\\bar{m}^\\mu$ were affected by them.\n",
    "\n"
   ]
  },
  {
   "cell_type": "code",
   "execution_count": 36,
   "metadata": {},
   "outputs": [
    {
     "data": {
      "text/html": [
       "<html><script type=\"math/tex; mode=display\">\\newcommand{\\Bold}[1]{\\mathbf{#1}}-l\\otimes n-n\\otimes l+m\\otimes \\bar{m}+\\bar{m}\\otimes m = \\frac{a^{2} \\sin\\left({\\theta}\\right)^{2}}{ρ\\left({r'}, {\\theta}, a\\right)^{2}} \\frac{\\partial}{\\partial {u'} }\\otimes \\frac{\\partial}{\\partial {u'} } + \\left( -\\frac{a^{2} \\sin\\left({\\theta}\\right)^{2} \\sqrt{Φ\\left({r'}, {\\theta}, a\\right)} + \\sqrt{Ψ\\left({r'}, {\\theta}, a\\right)} ρ\\left({r'}, {\\theta}, a\\right)^{2}}{\\sqrt{Φ\\left({r'}, {\\theta}, a\\right)} ρ\\left({r'}, {\\theta}, a\\right)^{2}} \\right) \\frac{\\partial}{\\partial {u'} }\\otimes \\frac{\\partial}{\\partial {r'} } + \\frac{a}{ρ\\left({r'}, {\\theta}, a\\right)^{2}} \\frac{\\partial}{\\partial {u'} }\\otimes \\frac{\\partial}{\\partial {\\phi} } + \\left( -\\frac{a^{2} \\sin\\left({\\theta}\\right)^{2} \\sqrt{Φ\\left({r'}, {\\theta}, a\\right)} + \\sqrt{Ψ\\left({r'}, {\\theta}, a\\right)} ρ\\left({r'}, {\\theta}, a\\right)^{2}}{\\sqrt{Φ\\left({r'}, {\\theta}, a\\right)} ρ\\left({r'}, {\\theta}, a\\right)^{2}} \\right) \\frac{\\partial}{\\partial {r'} }\\otimes \\frac{\\partial}{\\partial {u'} } + \\left( \\frac{a^{2} \\sin\\left({\\theta}\\right)^{2} + Ψ\\left({r'}, {\\theta}, a\\right) ρ\\left({r'}, {\\theta}, a\\right)^{2}}{ρ\\left({r'}, {\\theta}, a\\right)^{2}} \\right) \\frac{\\partial}{\\partial {r'} }\\otimes \\frac{\\partial}{\\partial {r'} } -\\frac{a}{ρ\\left({r'}, {\\theta}, a\\right)^{2}} \\frac{\\partial}{\\partial {r'} }\\otimes \\frac{\\partial}{\\partial {\\phi} } + \\frac{1}{ρ\\left({r'}, {\\theta}, a\\right)^{2}} \\frac{\\partial}{\\partial {\\theta} }\\otimes \\frac{\\partial}{\\partial {\\theta} } + \\frac{a}{ρ\\left({r'}, {\\theta}, a\\right)^{2}} \\frac{\\partial}{\\partial {\\phi} }\\otimes \\frac{\\partial}{\\partial {u'} } -\\frac{a}{ρ\\left({r'}, {\\theta}, a\\right)^{2}} \\frac{\\partial}{\\partial {\\phi} }\\otimes \\frac{\\partial}{\\partial {r'} } + \\frac{1}{\\sin\\left({\\theta}\\right)^{2} ρ\\left({r'}, {\\theta}, a\\right)^{2}} \\frac{\\partial}{\\partial {\\phi} }\\otimes \\frac{\\partial}{\\partial {\\phi} }</script></html>"
      ],
      "text/latex": [
       "$$\\newcommand{\\Bold}[1]{\\mathbf{#1}}-l\\otimes n-n\\otimes l+m\\otimes \\bar{m}+\\bar{m}\\otimes m = \\frac{a^{2} \\sin\\left({\\theta}\\right)^{2}}{ρ\\left({r'}, {\\theta}, a\\right)^{2}} \\frac{\\partial}{\\partial {u'} }\\otimes \\frac{\\partial}{\\partial {u'} } + \\left( -\\frac{a^{2} \\sin\\left({\\theta}\\right)^{2} \\sqrt{Φ\\left({r'}, {\\theta}, a\\right)} + \\sqrt{Ψ\\left({r'}, {\\theta}, a\\right)} ρ\\left({r'}, {\\theta}, a\\right)^{2}}{\\sqrt{Φ\\left({r'}, {\\theta}, a\\right)} ρ\\left({r'}, {\\theta}, a\\right)^{2}} \\right) \\frac{\\partial}{\\partial {u'} }\\otimes \\frac{\\partial}{\\partial {r'} } + \\frac{a}{ρ\\left({r'}, {\\theta}, a\\right)^{2}} \\frac{\\partial}{\\partial {u'} }\\otimes \\frac{\\partial}{\\partial {\\phi} } + \\left( -\\frac{a^{2} \\sin\\left({\\theta}\\right)^{2} \\sqrt{Φ\\left({r'}, {\\theta}, a\\right)} + \\sqrt{Ψ\\left({r'}, {\\theta}, a\\right)} ρ\\left({r'}, {\\theta}, a\\right)^{2}}{\\sqrt{Φ\\left({r'}, {\\theta}, a\\right)} ρ\\left({r'}, {\\theta}, a\\right)^{2}} \\right) \\frac{\\partial}{\\partial {r'} }\\otimes \\frac{\\partial}{\\partial {u'} } + \\left( \\frac{a^{2} \\sin\\left({\\theta}\\right)^{2} + Ψ\\left({r'}, {\\theta}, a\\right) ρ\\left({r'}, {\\theta}, a\\right)^{2}}{ρ\\left({r'}, {\\theta}, a\\right)^{2}} \\right) \\frac{\\partial}{\\partial {r'} }\\otimes \\frac{\\partial}{\\partial {r'} } -\\frac{a}{ρ\\left({r'}, {\\theta}, a\\right)^{2}} \\frac{\\partial}{\\partial {r'} }\\otimes \\frac{\\partial}{\\partial {\\phi} } + \\frac{1}{ρ\\left({r'}, {\\theta}, a\\right)^{2}} \\frac{\\partial}{\\partial {\\theta} }\\otimes \\frac{\\partial}{\\partial {\\theta} } + \\frac{a}{ρ\\left({r'}, {\\theta}, a\\right)^{2}} \\frac{\\partial}{\\partial {\\phi} }\\otimes \\frac{\\partial}{\\partial {u'} } -\\frac{a}{ρ\\left({r'}, {\\theta}, a\\right)^{2}} \\frac{\\partial}{\\partial {\\phi} }\\otimes \\frac{\\partial}{\\partial {r'} } + \\frac{1}{\\sin\\left({\\theta}\\right)^{2} ρ\\left({r'}, {\\theta}, a\\right)^{2}} \\frac{\\partial}{\\partial {\\phi} }\\otimes \\frac{\\partial}{\\partial {\\phi} }$$"
      ],
      "text/plain": [
       "-l*n-n*l+m*mb+mb*m = a^2*sin(th)^2/ρ(q, th, a)^2 d/dp*d/dp - (a^2*sin(th)^2*sqrt(Φ(q, th, a)) + sqrt(Ψ(q, th, a))*ρ(q, th, a)^2)/(sqrt(Φ(q, th, a))*ρ(q, th, a)^2) d/dp*d/dq + a/ρ(q, th, a)^2 d/dp*d/dph - (a^2*sin(th)^2*sqrt(Φ(q, th, a)) + sqrt(Ψ(q, th, a))*ρ(q, th, a)^2)/(sqrt(Φ(q, th, a))*ρ(q, th, a)^2) d/dq*d/dp + (a^2*sin(th)^2 + Ψ(q, th, a)*ρ(q, th, a)^2)/ρ(q, th, a)^2 d/dq*d/dq - a/ρ(q, th, a)^2 d/dq*d/dph + ρ(q, th, a)^(-2) d/dth*d/dth + a/ρ(q, th, a)^2 d/dph*d/dp - a/ρ(q, th, a)^2 d/dph*d/dq + 1/(sin(th)^2*ρ(q, th, a)^2) d/dph*d/dph"
      ]
     },
     "execution_count": 36,
     "metadata": {},
     "output_type": "execute_result"
    }
   ],
   "source": [
    "(-l*n - n*l + m*mb + mb*m).display(K)"
   ]
  },
  {
   "cell_type": "code",
   "execution_count": 37,
   "metadata": {},
   "outputs": [
    {
     "data": {
      "text/html": [
       "<html><script type=\"math/tex; mode=display\">\\newcommand{\\Bold}[1]{\\mathbf{#1}}\\left(\\begin{array}{rrrr}\n",
       "\\frac{a^{2} \\sin\\left({\\theta}\\right)^{2}}{ρ\\left({r'}, {\\theta}, a\\right)^{2}} & -\\frac{a^{2} \\sin\\left({\\theta}\\right)^{2} \\sqrt{Φ\\left({r'}, {\\theta}, a\\right)} + \\sqrt{Ψ\\left({r'}, {\\theta}, a\\right)} ρ\\left({r'}, {\\theta}, a\\right)^{2}}{\\sqrt{Φ\\left({r'}, {\\theta}, a\\right)} ρ\\left({r'}, {\\theta}, a\\right)^{2}} & 0 & \\frac{a}{ρ\\left({r'}, {\\theta}, a\\right)^{2}} \\\\\n",
       "-\\frac{a^{2} \\sin\\left({\\theta}\\right)^{2} \\sqrt{Φ\\left({r'}, {\\theta}, a\\right)} + \\sqrt{Ψ\\left({r'}, {\\theta}, a\\right)} ρ\\left({r'}, {\\theta}, a\\right)^{2}}{\\sqrt{Φ\\left({r'}, {\\theta}, a\\right)} ρ\\left({r'}, {\\theta}, a\\right)^{2}} & \\frac{a^{2} \\sin\\left({\\theta}\\right)^{2} + Ψ\\left({r'}, {\\theta}, a\\right) ρ\\left({r'}, {\\theta}, a\\right)^{2}}{ρ\\left({r'}, {\\theta}, a\\right)^{2}} & 0 & -\\frac{a}{ρ\\left({r'}, {\\theta}, a\\right)^{2}} \\\\\n",
       "0 & 0 & \\frac{1}{ρ\\left({r'}, {\\theta}, a\\right)^{2}} & 0 \\\\\n",
       "\\frac{a}{ρ\\left({r'}, {\\theta}, a\\right)^{2}} & -\\frac{a}{ρ\\left({r'}, {\\theta}, a\\right)^{2}} & 0 & \\frac{1}{\\sin\\left({\\theta}\\right)^{2} ρ\\left({r'}, {\\theta}, a\\right)^{2}}\n",
       "\\end{array}\\right)</script></html>"
      ],
      "text/latex": [
       "$$\\newcommand{\\Bold}[1]{\\mathbf{#1}}\\left(\\begin{array}{rrrr}\n",
       "\\frac{a^{2} \\sin\\left({\\theta}\\right)^{2}}{ρ\\left({r'}, {\\theta}, a\\right)^{2}} & -\\frac{a^{2} \\sin\\left({\\theta}\\right)^{2} \\sqrt{Φ\\left({r'}, {\\theta}, a\\right)} + \\sqrt{Ψ\\left({r'}, {\\theta}, a\\right)} ρ\\left({r'}, {\\theta}, a\\right)^{2}}{\\sqrt{Φ\\left({r'}, {\\theta}, a\\right)} ρ\\left({r'}, {\\theta}, a\\right)^{2}} & 0 & \\frac{a}{ρ\\left({r'}, {\\theta}, a\\right)^{2}} \\\\\n",
       "-\\frac{a^{2} \\sin\\left({\\theta}\\right)^{2} \\sqrt{Φ\\left({r'}, {\\theta}, a\\right)} + \\sqrt{Ψ\\left({r'}, {\\theta}, a\\right)} ρ\\left({r'}, {\\theta}, a\\right)^{2}}{\\sqrt{Φ\\left({r'}, {\\theta}, a\\right)} ρ\\left({r'}, {\\theta}, a\\right)^{2}} & \\frac{a^{2} \\sin\\left({\\theta}\\right)^{2} + Ψ\\left({r'}, {\\theta}, a\\right) ρ\\left({r'}, {\\theta}, a\\right)^{2}}{ρ\\left({r'}, {\\theta}, a\\right)^{2}} & 0 & -\\frac{a}{ρ\\left({r'}, {\\theta}, a\\right)^{2}} \\\\\n",
       "0 & 0 & \\frac{1}{ρ\\left({r'}, {\\theta}, a\\right)^{2}} & 0 \\\\\n",
       "\\frac{a}{ρ\\left({r'}, {\\theta}, a\\right)^{2}} & -\\frac{a}{ρ\\left({r'}, {\\theta}, a\\right)^{2}} & 0 & \\frac{1}{\\sin\\left({\\theta}\\right)^{2} ρ\\left({r'}, {\\theta}, a\\right)^{2}}\n",
       "\\end{array}\\right)$$"
      ],
      "text/plain": [
       "[                                                                           a^2*sin(th)^2/ρ(q, th, a)^2 -(a^2*sin(th)^2*sqrt(Φ(q, th, a)) + sqrt(Ψ(q, th, a))*ρ(q, th, a)^2)/(sqrt(Φ(q, th, a))*ρ(q, th, a)^2)                                                                                                      0                                                                                        a/ρ(q, th, a)^2]\n",
       "[-(a^2*sin(th)^2*sqrt(Φ(q, th, a)) + sqrt(Ψ(q, th, a))*ρ(q, th, a)^2)/(sqrt(Φ(q, th, a))*ρ(q, th, a)^2)                                              (a^2*sin(th)^2 + Ψ(q, th, a)*ρ(q, th, a)^2)/ρ(q, th, a)^2                                                                                                      0                                                                                       -a/ρ(q, th, a)^2]\n",
       "[                                                                                                     0                                                                                                      0                                                                                       ρ(q, th, a)^(-2)                                                                                                      0]\n",
       "[                                                                                       a/ρ(q, th, a)^2                                                                                       -a/ρ(q, th, a)^2                                                                                                      0                                                                            1/(sin(th)^2*ρ(q, th, a)^2)]"
      ]
     },
     "metadata": {},
     "output_type": "display_data"
    }
   ],
   "source": [
    "#g^{\\mu\\nu}\n",
    "show((-l*n - n*l + m*mb + mb*m)[K.frame(),:, K])"
   ]
  },
  {
   "cell_type": "markdown",
   "metadata": {},
   "source": [
    "We can compute the inverse matrix of $(-l*n - n*l + m*mb + mb*m)[K.frame(),:, K]$ for writing the new line element."
   ]
  },
  {
   "cell_type": "code",
   "execution_count": 38,
   "metadata": {},
   "outputs": [
    {
     "data": {
      "text/html": [
       "<html><script type=\"math/tex; mode=display\">\\newcommand{\\Bold}[1]{\\mathbf{#1}}\\left(\\begin{array}{rrrr}\n",
       "-Φ\\left({r'}, {\\theta}, a\\right) & -\\frac{\\sqrt{Φ\\left({r'}, {\\theta}, a\\right)}}{\\sqrt{Ψ\\left({r'}, {\\theta}, a\\right)}} & 0 & \\frac{a \\sin\\left({\\theta}\\right)^{2} Φ\\left({r'}, {\\theta}, a\\right) \\sqrt{Ψ\\left({r'}, {\\theta}, a\\right)} - a \\sin\\left({\\theta}\\right)^{2} \\sqrt{Φ\\left({r'}, {\\theta}, a\\right)}}{\\sqrt{Ψ\\left({r'}, {\\theta}, a\\right)}} \\\\\n",
       "-\\frac{\\sqrt{Φ\\left({r'}, {\\theta}, a\\right)}}{\\sqrt{Ψ\\left({r'}, {\\theta}, a\\right)}} & 0 & 0 & \\frac{a \\sin\\left({\\theta}\\right)^{2} \\sqrt{Φ\\left({r'}, {\\theta}, a\\right)}}{\\sqrt{Ψ\\left({r'}, {\\theta}, a\\right)}} \\\\\n",
       "0 & 0 & ρ\\left({r'}, {\\theta}, a\\right)^{2} & 0 \\\\\n",
       "\\frac{a \\sin\\left({\\theta}\\right)^{2} Φ\\left({r'}, {\\theta}, a\\right) \\sqrt{Ψ\\left({r'}, {\\theta}, a\\right)} - a \\sin\\left({\\theta}\\right)^{2} \\sqrt{Φ\\left({r'}, {\\theta}, a\\right)}}{\\sqrt{Ψ\\left({r'}, {\\theta}, a\\right)}} & \\frac{a \\sin\\left({\\theta}\\right)^{2} \\sqrt{Φ\\left({r'}, {\\theta}, a\\right)}}{\\sqrt{Ψ\\left({r'}, {\\theta}, a\\right)}} & 0 & \\frac{2 \\, a^{2} \\sin\\left({\\theta}\\right)^{4} \\sqrt{Φ\\left({r'}, {\\theta}, a\\right)} - {\\left(a^{2} \\sin\\left({\\theta}\\right)^{4} Φ\\left({r'}, {\\theta}, a\\right) - \\sin\\left({\\theta}\\right)^{2} ρ\\left({r'}, {\\theta}, a\\right)^{2}\\right)} \\sqrt{Ψ\\left({r'}, {\\theta}, a\\right)}}{\\sqrt{Ψ\\left({r'}, {\\theta}, a\\right)}}\n",
       "\\end{array}\\right)</script></html>"
      ],
      "text/latex": [
       "$$\\newcommand{\\Bold}[1]{\\mathbf{#1}}\\left(\\begin{array}{rrrr}\n",
       "-Φ\\left({r'}, {\\theta}, a\\right) & -\\frac{\\sqrt{Φ\\left({r'}, {\\theta}, a\\right)}}{\\sqrt{Ψ\\left({r'}, {\\theta}, a\\right)}} & 0 & \\frac{a \\sin\\left({\\theta}\\right)^{2} Φ\\left({r'}, {\\theta}, a\\right) \\sqrt{Ψ\\left({r'}, {\\theta}, a\\right)} - a \\sin\\left({\\theta}\\right)^{2} \\sqrt{Φ\\left({r'}, {\\theta}, a\\right)}}{\\sqrt{Ψ\\left({r'}, {\\theta}, a\\right)}} \\\\\n",
       "-\\frac{\\sqrt{Φ\\left({r'}, {\\theta}, a\\right)}}{\\sqrt{Ψ\\left({r'}, {\\theta}, a\\right)}} & 0 & 0 & \\frac{a \\sin\\left({\\theta}\\right)^{2} \\sqrt{Φ\\left({r'}, {\\theta}, a\\right)}}{\\sqrt{Ψ\\left({r'}, {\\theta}, a\\right)}} \\\\\n",
       "0 & 0 & ρ\\left({r'}, {\\theta}, a\\right)^{2} & 0 \\\\\n",
       "\\frac{a \\sin\\left({\\theta}\\right)^{2} Φ\\left({r'}, {\\theta}, a\\right) \\sqrt{Ψ\\left({r'}, {\\theta}, a\\right)} - a \\sin\\left({\\theta}\\right)^{2} \\sqrt{Φ\\left({r'}, {\\theta}, a\\right)}}{\\sqrt{Ψ\\left({r'}, {\\theta}, a\\right)}} & \\frac{a \\sin\\left({\\theta}\\right)^{2} \\sqrt{Φ\\left({r'}, {\\theta}, a\\right)}}{\\sqrt{Ψ\\left({r'}, {\\theta}, a\\right)}} & 0 & \\frac{2 \\, a^{2} \\sin\\left({\\theta}\\right)^{4} \\sqrt{Φ\\left({r'}, {\\theta}, a\\right)} - {\\left(a^{2} \\sin\\left({\\theta}\\right)^{4} Φ\\left({r'}, {\\theta}, a\\right) - \\sin\\left({\\theta}\\right)^{2} ρ\\left({r'}, {\\theta}, a\\right)^{2}\\right)} \\sqrt{Ψ\\left({r'}, {\\theta}, a\\right)}}{\\sqrt{Ψ\\left({r'}, {\\theta}, a\\right)}}\n",
       "\\end{array}\\right)$$"
      ],
      "text/plain": [
       "[                                                                                                                   -Φ(q, th, a)                                                                                            -sqrt(Φ(q, th, a))/sqrt(Ψ(q, th, a))                                                                                                                               0                                   (a*sin(th)^2*Φ(q, th, a)*sqrt(Ψ(q, th, a)) - a*sin(th)^2*sqrt(Φ(q, th, a)))/sqrt(Ψ(q, th, a))]\n",
       "[                                                                                           -sqrt(Φ(q, th, a))/sqrt(Ψ(q, th, a))                                                                                                                               0                                                                                                                               0                                                                                 a*sin(th)^2*sqrt(Φ(q, th, a))/sqrt(Ψ(q, th, a))]\n",
       "[                                                                                                                              0                                                                                                                               0                                                                                                                   ρ(q, th, a)^2                                                                                                                               0]\n",
       "[                                  (a*sin(th)^2*Φ(q, th, a)*sqrt(Ψ(q, th, a)) - a*sin(th)^2*sqrt(Φ(q, th, a)))/sqrt(Ψ(q, th, a))                                                                                 a*sin(th)^2*sqrt(Φ(q, th, a))/sqrt(Ψ(q, th, a))                                                                                                                               0 (2*a^2*sin(th)^4*sqrt(Φ(q, th, a)) - (a^2*sin(th)^4*Φ(q, th, a) - sin(th)^2*ρ(q, th, a)^2)*sqrt(Ψ(q, th, a)))/sqrt(Ψ(q, th, a))]"
      ]
     },
     "execution_count": 38,
     "metadata": {},
     "output_type": "execute_result"
    }
   ],
   "source": [
    "#g_{\\mu\\nu}\n",
    "ANJ = ((-l*n - n*l + m*mb + mb*m)[K.frame(),:, K]).inverse(); ANJ"
   ]
  },
  {
   "cell_type": "markdown",
   "metadata": {},
   "source": [
    "The new line element in advanced null coordinates has the form:\n",
    "\n",
    "\\begin{equation}\n",
    "    ds'^2 = -\\Phi du^2 - 2\\sqrt{\\frac{\\Psi}{\\Phi}}dudr - 2a\\sin(\\theta)^2\\left(\\sqrt{\\frac{\\Phi}{\\Psi}} -\\Phi\\right)dud\\phi  + 2a\\sin(\\theta)^2\\sqrt{\\frac{\\Phi}{\\Psi}}drd\\phi  +\\rho^2 d\\theta^2 + \\sin(\\theta)^2\\left\\{\\rho^2 + a^2\\sin(\\theta)^2\\left(2\\sqrt{\\frac{\\Phi}{\\Psi}} - \\Phi\\right)\\right\\}d\\phi^2.    \n",
    "\\end{equation}"
   ]
  },
  {
   "cell_type": "markdown",
   "metadata": {},
   "source": [
    "We declare a new spacetime KS and input its metric as $ds'^2$ in Boyer-Lindquist coordinates.\n",
    "\n",
    "Our line element $ds'^2$ in Boyer-Lindquist coordinates has the form \n",
    "\n",
    "\\begin{equation}\n",
    "ds'^2 = -\\Phi dt^2  - 2a\\sin(\\theta)^2\\left(\\sqrt{\\frac{\\Phi}{\\Psi}} -\\Phi\\right)dtd\\phi + \\frac{\\rho^2}{ a^2\\sin^2(\\theta) - \\rho^2\\Phi } dr^2  +\\rho^2 d\\theta^2 + \\sin(\\theta)^2\\left\\{\\rho^2 + a^2\\sin(\\theta)^2\\left(2\\sqrt{\\frac{\\Phi}{\\Psi}} - \\Phi\\right)\\right\\}d\\phi^2.    \n",
    "\\end{equation}"
   ]
  },
  {
   "cell_type": "code",
   "execution_count": 39,
   "metadata": {},
   "outputs": [],
   "source": [
    "KS = Manifold(4,'KS',structure='Lorentzian')\n",
    "S.<p, q, th, ph> = KS.chart(r\"p:t q:(0,+oo):r th:(0,pi):\\theta ph:(0,2*pi):\\phi:periodic\")\n",
    "dp, dq, dth, dph = S.coframe()[:]"
   ]
  },
  {
   "cell_type": "code",
   "execution_count": 40,
   "metadata": {},
   "outputs": [
    {
     "data": {
      "text/html": [
       "<html><script type=\"math/tex; mode=display\">\\newcommand{\\Bold}[1]{\\mathbf{#1}}-Φ\\left({r'}, {\\theta}, a\\right) \\mathrm{d} {t}\\otimes \\mathrm{d} {t} + \\frac{2 \\, {\\left(a \\sin\\left({\\theta}\\right)^{2} Φ\\left({r}, {\\theta}, a\\right) \\sqrt{Ψ\\left({r}, {\\theta}, a\\right)} - a \\sin\\left({\\theta}\\right)^{2} \\sqrt{Φ\\left({r}, {\\theta}, a\\right)}\\right)}}{\\sqrt{Ψ\\left({r}, {\\theta}, a\\right)}} \\mathrm{d} {t}\\otimes \\mathrm{d} {\\phi} + \\left( \\frac{ρ\\left({r'}, {\\theta}, a\\right)^{2}}{a^{2} \\sin\\left({\\theta}\\right)^{2} - Φ\\left({r}, {\\theta}, a\\right) ρ\\left({r}, {\\theta}, a\\right)^{2}} \\right) \\mathrm{d} {r}\\otimes \\mathrm{d} {r} + ρ\\left({r'}, {\\theta}, a\\right)^{2} \\mathrm{d} {\\theta}\\otimes \\mathrm{d} {\\theta} + \\left( \\frac{2 \\, a^{2} \\sin\\left({\\theta}\\right)^{4} \\sqrt{Φ\\left({r'}, {\\theta}, a\\right)} - {\\left(a^{2} \\sin\\left({\\theta}\\right)^{4} Φ\\left({r'}, {\\theta}, a\\right) - \\sin\\left({\\theta}\\right)^{2} ρ\\left({r'}, {\\theta}, a\\right)^{2}\\right)} \\sqrt{Ψ\\left({r'}, {\\theta}, a\\right)}}{\\sqrt{Ψ\\left({r'}, {\\theta}, a\\right)}} \\right) \\mathrm{d} {\\phi}\\otimes \\mathrm{d} {\\phi}</script></html>"
      ],
      "text/latex": [
       "$$\\newcommand{\\Bold}[1]{\\mathbf{#1}}-Φ\\left({r'}, {\\theta}, a\\right) \\mathrm{d} {t}\\otimes \\mathrm{d} {t} + \\frac{2 \\, {\\left(a \\sin\\left({\\theta}\\right)^{2} Φ\\left({r}, {\\theta}, a\\right) \\sqrt{Ψ\\left({r}, {\\theta}, a\\right)} - a \\sin\\left({\\theta}\\right)^{2} \\sqrt{Φ\\left({r}, {\\theta}, a\\right)}\\right)}}{\\sqrt{Ψ\\left({r}, {\\theta}, a\\right)}} \\mathrm{d} {t}\\otimes \\mathrm{d} {\\phi} + \\left( \\frac{ρ\\left({r'}, {\\theta}, a\\right)^{2}}{a^{2} \\sin\\left({\\theta}\\right)^{2} - Φ\\left({r}, {\\theta}, a\\right) ρ\\left({r}, {\\theta}, a\\right)^{2}} \\right) \\mathrm{d} {r}\\otimes \\mathrm{d} {r} + ρ\\left({r'}, {\\theta}, a\\right)^{2} \\mathrm{d} {\\theta}\\otimes \\mathrm{d} {\\theta} + \\left( \\frac{2 \\, a^{2} \\sin\\left({\\theta}\\right)^{4} \\sqrt{Φ\\left({r'}, {\\theta}, a\\right)} - {\\left(a^{2} \\sin\\left({\\theta}\\right)^{4} Φ\\left({r'}, {\\theta}, a\\right) - \\sin\\left({\\theta}\\right)^{2} ρ\\left({r'}, {\\theta}, a\\right)^{2}\\right)} \\sqrt{Ψ\\left({r'}, {\\theta}, a\\right)}}{\\sqrt{Ψ\\left({r'}, {\\theta}, a\\right)}} \\right) \\mathrm{d} {\\phi}\\otimes \\mathrm{d} {\\phi}$$"
      ],
      "text/plain": [
       "-Φ(q, th, a) dp*dp + 2*(a*sin(th)^2*Φ(q, th, a)*sqrt(Ψ(q, th, a)) - a*sin(th)^2*sqrt(Φ(q, th, a)))/sqrt(Ψ(q, th, a)) dp*dph + ρ(q, th, a)^2/(a^2*sin(th)^2 - Φ(q, th, a)*ρ(q, th, a)^2) dq*dq + ρ(q, th, a)^2 dth*dth + (2*a^2*sin(th)^4*sqrt(Φ(q, th, a)) - (a^2*sin(th)^4*Φ(q, th, a) - sin(th)^2*ρ(q, th, a)^2)*sqrt(Ψ(q, th, a)))/sqrt(Ψ(q, th, a)) dph*dph"
      ]
     },
     "execution_count": 40,
     "metadata": {},
     "output_type": "execute_result"
    }
   ],
   "source": [
    "gNJ = ANJ[0][0].expr()*dp*dp + (ANJ[0][3]+ANJ[3][0]).expr()*dp*dph + ANJ[2][2].expr()*dth*dth + ANJ[3][3].expr()*dph*dph + (ANJ[2][2].expr()/((ANJ[2][2]*ANJ[0][0]).expr() +a^2*sin(th)^2))*dq*dq; gNJ.display()"
   ]
  },
  {
   "cell_type": "code",
   "execution_count": 41,
   "metadata": {},
   "outputs": [
    {
     "data": {
      "text/html": [
       "<html><script type=\"math/tex; mode=display\">\\newcommand{\\Bold}[1]{\\mathbf{#1}}-Φ\\left({r'}, {\\theta}, a\\right) \\mathrm{d} {t}\\otimes \\mathrm{d} {t} + \\frac{2 \\, {\\left(a \\sin\\left({\\theta}\\right)^{2} Φ\\left({r}, {\\theta}, a\\right) \\sqrt{Ψ\\left({r}, {\\theta}, a\\right)} - a \\sin\\left({\\theta}\\right)^{2} \\sqrt{Φ\\left({r}, {\\theta}, a\\right)}\\right)}}{\\sqrt{Ψ\\left({r}, {\\theta}, a\\right)}} \\mathrm{d} {t}\\otimes \\mathrm{d} {\\phi} + \\left( \\frac{ρ\\left({r'}, {\\theta}, a\\right)^{2}}{a^{2} \\sin\\left({\\theta}\\right)^{2} - Φ\\left({r}, {\\theta}, a\\right) ρ\\left({r}, {\\theta}, a\\right)^{2}} \\right) \\mathrm{d} {r}\\otimes \\mathrm{d} {r} + ρ\\left({r'}, {\\theta}, a\\right)^{2} \\mathrm{d} {\\theta}\\otimes \\mathrm{d} {\\theta} + \\left( \\frac{2 \\, a^{2} \\sin\\left({\\theta}\\right)^{4} \\sqrt{Φ\\left({r'}, {\\theta}, a\\right)} - {\\left(a^{2} \\sin\\left({\\theta}\\right)^{4} Φ\\left({r'}, {\\theta}, a\\right) - \\sin\\left({\\theta}\\right)^{2} ρ\\left({r'}, {\\theta}, a\\right)^{2}\\right)} \\sqrt{Ψ\\left({r'}, {\\theta}, a\\right)}}{\\sqrt{Ψ\\left({r'}, {\\theta}, a\\right)}} \\right) \\mathrm{d} {\\phi}\\otimes \\mathrm{d} {\\phi}</script></html>"
      ],
      "text/latex": [
       "$$\\newcommand{\\Bold}[1]{\\mathbf{#1}}-Φ\\left({r'}, {\\theta}, a\\right) \\mathrm{d} {t}\\otimes \\mathrm{d} {t} + \\frac{2 \\, {\\left(a \\sin\\left({\\theta}\\right)^{2} Φ\\left({r}, {\\theta}, a\\right) \\sqrt{Ψ\\left({r}, {\\theta}, a\\right)} - a \\sin\\left({\\theta}\\right)^{2} \\sqrt{Φ\\left({r}, {\\theta}, a\\right)}\\right)}}{\\sqrt{Ψ\\left({r}, {\\theta}, a\\right)}} \\mathrm{d} {t}\\otimes \\mathrm{d} {\\phi} + \\left( \\frac{ρ\\left({r'}, {\\theta}, a\\right)^{2}}{a^{2} \\sin\\left({\\theta}\\right)^{2} - Φ\\left({r}, {\\theta}, a\\right) ρ\\left({r}, {\\theta}, a\\right)^{2}} \\right) \\mathrm{d} {r}\\otimes \\mathrm{d} {r} + ρ\\left({r'}, {\\theta}, a\\right)^{2} \\mathrm{d} {\\theta}\\otimes \\mathrm{d} {\\theta} + \\left( \\frac{2 \\, a^{2} \\sin\\left({\\theta}\\right)^{4} \\sqrt{Φ\\left({r'}, {\\theta}, a\\right)} - {\\left(a^{2} \\sin\\left({\\theta}\\right)^{4} Φ\\left({r'}, {\\theta}, a\\right) - \\sin\\left({\\theta}\\right)^{2} ρ\\left({r'}, {\\theta}, a\\right)^{2}\\right)} \\sqrt{Ψ\\left({r'}, {\\theta}, a\\right)}}{\\sqrt{Ψ\\left({r'}, {\\theta}, a\\right)}} \\right) \\mathrm{d} {\\phi}\\otimes \\mathrm{d} {\\phi}$$"
      ],
      "text/plain": [
       "-Φ(q, th, a) dp*dp + 2*(a*sin(th)^2*Φ(q, th, a)*sqrt(Ψ(q, th, a)) - a*sin(th)^2*sqrt(Φ(q, th, a)))/sqrt(Ψ(q, th, a)) dp*dph + ρ(q, th, a)^2/(a^2*sin(th)^2 - Φ(q, th, a)*ρ(q, th, a)^2) dq*dq + ρ(q, th, a)^2 dth*dth + (2*a^2*sin(th)^4*sqrt(Φ(q, th, a)) - (a^2*sin(th)^4*Φ(q, th, a) - sin(th)^2*ρ(q, th, a)^2)*sqrt(Ψ(q, th, a)))/sqrt(Ψ(q, th, a)) dph*dph"
      ]
     },
     "execution_count": 41,
     "metadata": {},
     "output_type": "execute_result"
    }
   ],
   "source": [
    "gKS = KS.metric()\n",
    "gKS= gNJ\n",
    "gKS.display()"
   ]
  },
  {
   "cell_type": "code",
   "execution_count": null,
   "metadata": {},
   "outputs": [],
   "source": []
  }
 ],
 "metadata": {
  "kernelspec": {
   "display_name": "SageMath 9.3",
   "language": "sage",
   "name": "sagemath"
  },
  "language_info": {
   "codemirror_mode": {
    "name": "ipython",
    "version": 3
   },
   "file_extension": ".py",
   "mimetype": "text/x-python",
   "name": "python",
   "nbconvert_exporter": "python",
   "pygments_lexer": "ipython3",
   "version": "3.7.10"
  }
 },
 "nbformat": 4,
 "nbformat_minor": 4
}
