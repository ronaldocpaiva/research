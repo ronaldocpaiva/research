{
 "cells": [
  {
   "cell_type": "markdown",
   "metadata": {},
   "source": [
    "## Método de Leaver para Obtenção das Frequências Quasinormais Fundamentais (Schwarzschild)\n",
    "\n",
    "### Por Ronaldo César de Paiva"
   ]
  },
  {
   "cell_type": "code",
   "execution_count": 36,
   "metadata": {},
   "outputs": [],
   "source": [
    "reset()"
   ]
  },
  {
   "cell_type": "code",
   "execution_count": 37,
   "metadata": {},
   "outputs": [],
   "source": [
    "#bibliotecas\n",
    "import numpy as np\n",
    "from scipy import optimize"
   ]
  },
  {
   "cell_type": "code",
   "execution_count": 38,
   "metadata": {},
   "outputs": [],
   "source": [
    "#var('n w l s M ρ')"
   ]
  },
  {
   "cell_type": "code",
   "execution_count": 39,
   "metadata": {},
   "outputs": [],
   "source": [
    "s = 0 #spin da perturbação\n",
    "r = 1 #raio do horizonte de eventos"
   ]
  },
  {
   "cell_type": "code",
   "execution_count": 40,
   "metadata": {},
   "outputs": [],
   "source": [
    "def As(l): \n",
    "    return (l -s)*(l+s+1)\n",
    "\n",
    "def C0(n,w,l):\n",
    "    return -s +1-2*I*w*r\n",
    "\n",
    "def C1(n,w,l):\n",
    "    return -4 + 8*I*w*r\n",
    "\n",
    "def C2(n,w,l):\n",
    "    return s +3 - 4*I*w*r\n",
    "\n",
    "def C3(n,w,l):\n",
    "    return -s -1+4*I*w*r + 8*w^2*r^2 - As(l)\n",
    "\n",
    "def C4(n,w,l):\n",
    "    return s +1 -2*(s+2)*I*w*r - 4*w^2*r^2"
   ]
  },
  {
   "cell_type": "code",
   "execution_count": 41,
   "metadata": {},
   "outputs": [],
   "source": [
    "def a(n,w,l):\n",
    "    return n^2 +(C0(n,w,l)+1)*n + C0(n,w,l)\n",
    "\n",
    "def b(n,w,l):\n",
    "    return -2*n^2 + (C1(n,w,l) + 2)*n + C3(n,w,l)\n",
    "\n",
    "def y(n,w,l):\n",
    "    return n^2 + (C2(n,w,l) -3)*n + C4(n,w,l) - C2(n,w,l) +2"
   ]
  },
  {
   "cell_type": "code",
   "execution_count": 42,
   "metadata": {},
   "outputs": [],
   "source": [
    "def Fn(n,w,l):\n",
    "    Rn = 0\n",
    "    for i in range(n, 0, -1):\n",
    "        Rn = -a(i-1,w,l)*y(i,w,l)/(b(i,w,l) + Rn)\n",
    "    return Rn"
   ]
  },
  {
   "cell_type": "code",
   "execution_count": 43,
   "metadata": {},
   "outputs": [],
   "source": [
    "def f(n,w,l): \n",
    "    return Fn(n,w,l)/a(0,w,l) + b(0,w, l)/a(0, w, l)"
   ]
  },
  {
   "cell_type": "code",
   "execution_count": 44,
   "metadata": {},
   "outputs": [],
   "source": [
    "def ff0(w):\n",
    "    return f(100,w,0)\n",
    "\n",
    "def ff1(w):\n",
    "    return f(100,w,1)\n",
    "\n",
    "def ff2(w):\n",
    "    return f(100,w,2)\n",
    "\n",
    "def ff3(w):\n",
    "    return f(100,w,3)\n",
    "\n",
    "def ff4(w):\n",
    "    return f(100,w,4)"
   ]
  },
  {
   "cell_type": "code",
   "execution_count": 45,
   "metadata": {},
   "outputs": [
    {
     "data": {
      "text/plain": [
       "0.220910024260586 - 0.209792152366423*I"
      ]
     },
     "execution_count": 45,
     "metadata": {},
     "output_type": "execute_result"
    }
   ],
   "source": [
    "optimize.newton(ff0,0.5)"
   ]
  },
  {
   "cell_type": "code",
   "execution_count": 46,
   "metadata": {},
   "outputs": [
    {
     "data": {
      "text/plain": [
       "0.585872266534637 - 0.195319977825812*I"
      ]
     },
     "execution_count": 46,
     "metadata": {},
     "output_type": "execute_result"
    }
   ],
   "source": [
    "optimize.newton(ff1,0.5)"
   ]
  },
  {
   "cell_type": "code",
   "execution_count": 47,
   "metadata": {},
   "outputs": [
    {
     "data": {
      "text/plain": [
       "0.967287744421426 - 0.193517551956576*I"
      ]
     },
     "execution_count": 47,
     "metadata": {},
     "output_type": "execute_result"
    }
   ],
   "source": [
    "optimize.newton(ff2,0.5)"
   ]
  },
  {
   "cell_type": "code",
   "execution_count": 48,
   "metadata": {},
   "outputs": [
    {
     "data": {
      "text/plain": [
       "1.35073246507324 - 0.192999255468019*I"
      ]
     },
     "execution_count": 48,
     "metadata": {},
     "output_type": "execute_result"
    }
   ],
   "source": [
    "optimize.newton(ff3,0.5)"
   ]
  },
  {
   "cell_type": "code",
   "execution_count": 49,
   "metadata": {},
   "outputs": [
    {
     "data": {
      "text/plain": [
       "1.73483128347576 - 0.192783384696050*I"
      ]
     },
     "execution_count": 49,
     "metadata": {},
     "output_type": "execute_result"
    }
   ],
   "source": [
    "optimize.newton(ff4,0.5)"
   ]
  },
  {
   "cell_type": "code",
   "execution_count": null,
   "metadata": {},
   "outputs": [],
   "source": []
  }
 ],
 "metadata": {
  "kernelspec": {
   "display_name": "SageMath 9.3",
   "language": "sage",
   "name": "sagemath"
  },
  "language_info": {
   "codemirror_mode": {
    "name": "ipython",
    "version": 3
   },
   "file_extension": ".py",
   "mimetype": "text/x-python",
   "name": "python",
   "nbconvert_exporter": "python",
   "pygments_lexer": "ipython3",
   "version": "3.7.10"
  }
 },
 "nbformat": 4,
 "nbformat_minor": 4
}
